{
 "cells": [
  {
   "cell_type": "markdown",
   "id": "e90be22a-012c-4049-9ef3-01a8bdc9a670",
   "metadata": {},
   "source": [
    "### <u>Bitcoin Data Analysis:</u>"
   ]
  },
  {
   "cell_type": "markdown",
   "id": "e7f97bdb-1dc0-4346-b710-cf71355d41b6",
   "metadata": {},
   "source": [
    "#### Import Libraries:"
   ]
  },
  {
   "cell_type": "code",
   "execution_count": 1,
   "id": "f00d41d4-2eeb-426a-8ceb-9b469198ed6e",
   "metadata": {},
   "outputs": [],
   "source": [
    "import numpy as np\n",
    "import pandas as pd"
   ]
  },
  {
   "cell_type": "code",
   "execution_count": null,
   "id": "d6dfbdd4-3ae9-4856-b0ad-a04db82c4eb7",
   "metadata": {},
   "outputs": [],
   "source": []
  }
 ],
 "metadata": {
  "kernelspec": {
   "display_name": "Python 3 (ipykernel)",
   "language": "python",
   "name": "python3"
  },
  "language_info": {
   "codemirror_mode": {
    "name": "ipython",
    "version": 3
   },
   "file_extension": ".py",
   "mimetype": "text/x-python",
   "name": "python",
   "nbconvert_exporter": "python",
   "pygments_lexer": "ipython3",
   "version": "3.12.2"
  }
 },
 "nbformat": 4,
 "nbformat_minor": 5
}
