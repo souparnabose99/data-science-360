{
 "cells": [
  {
   "cell_type": "code",
   "execution_count": 1,
   "id": "5db1ab3f-dea9-402c-ade6-5397c882c359",
   "metadata": {},
   "outputs": [],
   "source": [
    "import numpy as np\n",
    "import pandas as pd"
   ]
  },
  {
   "cell_type": "code",
   "execution_count": 2,
   "id": "4f4cb121-7992-4059-b79c-4074749586b1",
   "metadata": {},
   "outputs": [
    {
     "data": {
      "text/html": [
       "<div>\n",
       "<style scoped>\n",
       "    .dataframe tbody tr th:only-of-type {\n",
       "        vertical-align: middle;\n",
       "    }\n",
       "\n",
       "    .dataframe tbody tr th {\n",
       "        vertical-align: top;\n",
       "    }\n",
       "\n",
       "    .dataframe thead th {\n",
       "        text-align: right;\n",
       "    }\n",
       "</style>\n",
       "<table border=\"1\" class=\"dataframe\">\n",
       "  <thead>\n",
       "    <tr style=\"text-align: right;\">\n",
       "      <th></th>\n",
       "      <th>Student</th>\n",
       "      <th>Class</th>\n",
       "      <th>Year</th>\n",
       "      <th>Grade</th>\n",
       "    </tr>\n",
       "  </thead>\n",
       "  <tbody>\n",
       "    <tr>\n",
       "      <th>0</th>\n",
       "      <td>Emma</td>\n",
       "      <td>Freshman Seminar</td>\n",
       "      <td>Freshman</td>\n",
       "      <td>86.0</td>\n",
       "    </tr>\n",
       "    <tr>\n",
       "      <th>1</th>\n",
       "      <td>Olivia</td>\n",
       "      <td>Freshman Seminar</td>\n",
       "      <td>Freshman</td>\n",
       "      <td>86.0</td>\n",
       "    </tr>\n",
       "    <tr>\n",
       "      <th>2</th>\n",
       "      <td>Noah</td>\n",
       "      <td>Freshman Seminar</td>\n",
       "      <td>Freshman</td>\n",
       "      <td>86.0</td>\n",
       "    </tr>\n",
       "    <tr>\n",
       "      <th>3</th>\n",
       "      <td>Sophia</td>\n",
       "      <td>Freshman Seminar</td>\n",
       "      <td>Freshman</td>\n",
       "      <td>87.0</td>\n",
       "    </tr>\n",
       "    <tr>\n",
       "      <th>4</th>\n",
       "      <td>Liam</td>\n",
       "      <td>Freshman Seminar</td>\n",
       "      <td>Freshman</td>\n",
       "      <td>90.0</td>\n",
       "    </tr>\n",
       "  </tbody>\n",
       "</table>\n",
       "</div>"
      ],
      "text/plain": [
       "  Student             Class      Year  Grade\n",
       "0    Emma  Freshman Seminar  Freshman   86.0\n",
       "1  Olivia  Freshman Seminar  Freshman   86.0\n",
       "2    Noah  Freshman Seminar  Freshman   86.0\n",
       "3  Sophia  Freshman Seminar  Freshman   87.0\n",
       "4    Liam  Freshman Seminar  Freshman   90.0"
      ]
     },
     "execution_count": 2,
     "metadata": {},
     "output_type": "execute_result"
    }
   ],
   "source": [
    "df = pd.read_excel(r\"D:\\Coding\\Data-Prep-EDA\\Code\\Data\\Student Grades.xlsx\")\n",
    "df.head()"
   ]
  },
  {
   "cell_type": "code",
   "execution_count": 3,
   "id": "c6d3dcdb-0ba9-42ed-88c4-9c77b05f2e51",
   "metadata": {},
   "outputs": [
    {
     "data": {
      "text/plain": [
       "Class\n",
       "Intro to Python              25\n",
       "Intro to SQL                 20\n",
       "EDA                          13\n",
       "Freshman Seminar             12\n",
       "Exploratory Data Analysis    12\n",
       "Python                        1\n",
       "Name: count, dtype: int64"
      ]
     },
     "execution_count": 3,
     "metadata": {},
     "output_type": "execute_result"
    }
   ],
   "source": [
    "df.Class.value_counts()"
   ]
  },
  {
   "cell_type": "code",
   "execution_count": 4,
   "id": "295399b2-804f-4a81-849c-d94a81e8d5ac",
   "metadata": {},
   "outputs": [],
   "source": [
    "class_mappings = {\"Intro to Python\": \"Intro to Python\",\n",
    "                  \"Intro to SQL\": \"Intro to SQL\",\n",
    "                  \"EDA\": \"EDA\",\n",
    "                  \"Freshman Seminar\": \"Freshman Seminar\",\n",
    "                  \"Exploratory Data Analysis\": \"EDA\",\n",
    "                  \"Python\": \"Intro to Python\"}"
   ]
  },
  {
   "cell_type": "code",
   "execution_count": 6,
   "id": "d63690ec-5a37-42a4-9682-73b7c455e6fe",
   "metadata": {},
   "outputs": [
    {
     "data": {
      "text/plain": [
       "Class\n",
       "Intro to Python     26\n",
       "EDA                 25\n",
       "Intro to SQL        20\n",
       "Freshman Seminar    12\n",
       "Name: count, dtype: int64"
      ]
     },
     "execution_count": 6,
     "metadata": {},
     "output_type": "execute_result"
    }
   ],
   "source": [
    "df.Class = df.Class.map(class_mappings)\n",
    "df.Class.value_counts()"
   ]
  },
  {
   "cell_type": "code",
   "execution_count": 7,
   "id": "c3ebb61f-edac-4d0b-88a2-c95dd49ca498",
   "metadata": {},
   "outputs": [
    {
     "name": "stdout",
     "output_type": "stream",
     "text": [
      "<class 'pandas.core.frame.DataFrame'>\n",
      "RangeIndex: 86 entries, 0 to 85\n",
      "Data columns (total 4 columns):\n",
      " #   Column   Non-Null Count  Dtype  \n",
      "---  ------   --------------  -----  \n",
      " 0   Student  84 non-null     object \n",
      " 1   Class    83 non-null     object \n",
      " 2   Year     80 non-null     object \n",
      " 3   Grade    82 non-null     float64\n",
      "dtypes: float64(1), object(3)\n",
      "memory usage: 2.8+ KB\n"
     ]
    }
   ],
   "source": [
    "df.info()"
   ]
  },
  {
   "cell_type": "code",
   "execution_count": 8,
   "id": "5c8d7e94-147c-4943-ba4f-700598c25353",
   "metadata": {},
   "outputs": [
    {
     "data": {
      "text/plain": [
       "0     freshman\n",
       "1     freshman\n",
       "2     freshman\n",
       "3     freshman\n",
       "4     freshman\n",
       "        ...   \n",
       "81         NaN\n",
       "82         NaN\n",
       "83      junior\n",
       "84      senior\n",
       "85         NaN\n",
       "Name: Year, Length: 86, dtype: object"
      ]
     },
     "execution_count": 8,
     "metadata": {},
     "output_type": "execute_result"
    }
   ],
   "source": [
    "df.Year.str.lower().str.replace(\"the\", \"\").str.strip('\"\"')"
   ]
  },
  {
   "cell_type": "code",
   "execution_count": null,
   "id": "9f9d5eeb-d5e4-4734-bfcf-589bb7579290",
   "metadata": {},
   "outputs": [],
   "source": []
  }
 ],
 "metadata": {
  "kernelspec": {
   "display_name": "Python 3 (ipykernel)",
   "language": "python",
   "name": "python3"
  },
  "language_info": {
   "codemirror_mode": {
    "name": "ipython",
    "version": 3
   },
   "file_extension": ".py",
   "mimetype": "text/x-python",
   "name": "python",
   "nbconvert_exporter": "python",
   "pygments_lexer": "ipython3",
   "version": "3.12.3"
  }
 },
 "nbformat": 4,
 "nbformat_minor": 5
}
