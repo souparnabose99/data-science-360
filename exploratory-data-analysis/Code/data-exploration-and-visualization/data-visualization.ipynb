{
 "cells": [
  {
   "cell_type": "code",
   "execution_count": 1,
   "id": "d0d98b74-1ec4-4428-9dc1-ee5cb8ea4925",
   "metadata": {},
   "outputs": [],
   "source": [
    "import numpy as np\n",
    "import pandas as pd"
   ]
  },
  {
   "cell_type": "code",
   "execution_count": 2,
   "id": "5aa30c20-0273-4b93-9ee6-d8380d722133",
   "metadata": {},
   "outputs": [
    {
     "data": {
      "text/html": [
       "<div>\n",
       "<style scoped>\n",
       "    .dataframe tbody tr th:only-of-type {\n",
       "        vertical-align: middle;\n",
       "    }\n",
       "\n",
       "    .dataframe tbody tr th {\n",
       "        vertical-align: top;\n",
       "    }\n",
       "\n",
       "    .dataframe thead th {\n",
       "        text-align: right;\n",
       "    }\n",
       "</style>\n",
       "<table border=\"1\" class=\"dataframe\">\n",
       "  <thead>\n",
       "    <tr style=\"text-align: right;\">\n",
       "      <th></th>\n",
       "      <th>Product_ID</th>\n",
       "      <th>Product_ID_Num</th>\n",
       "      <th>Category</th>\n",
       "      <th>Subcategory</th>\n",
       "      <th>Item</th>\n",
       "      <th>Organic</th>\n",
       "      <th>Price_Dollars</th>\n",
       "      <th>Inventory</th>\n",
       "      <th>Percent Inventory</th>\n",
       "      <th>Low Inventory</th>\n",
       "      <th>Last_Updated</th>\n",
       "      <th>Last_Updated_Time</th>\n",
       "      <th>Next_Scheduled_Shipment</th>\n",
       "      <th>Shipment_Date_DOW</th>\n",
       "    </tr>\n",
       "  </thead>\n",
       "  <tbody>\n",
       "    <tr>\n",
       "      <th>0</th>\n",
       "      <td>P100010</td>\n",
       "      <td>100010</td>\n",
       "      <td>Produce</td>\n",
       "      <td>Fruit</td>\n",
       "      <td>Apple</td>\n",
       "      <td>False</td>\n",
       "      <td>1.50</td>\n",
       "      <td>349</td>\n",
       "      <td>7.2</td>\n",
       "      <td></td>\n",
       "      <td>2023-06-12 15:35:00</td>\n",
       "      <td>15:35:00</td>\n",
       "      <td>2023-06-15</td>\n",
       "      <td>Thursday</td>\n",
       "    </tr>\n",
       "    <tr>\n",
       "      <th>1</th>\n",
       "      <td>P100011</td>\n",
       "      <td>100011</td>\n",
       "      <td>Produce</td>\n",
       "      <td>Fruit</td>\n",
       "      <td>Banana</td>\n",
       "      <td>False</td>\n",
       "      <td>0.40</td>\n",
       "      <td>500</td>\n",
       "      <td>10.3</td>\n",
       "      <td></td>\n",
       "      <td>2023-06-12 18:30:00</td>\n",
       "      <td>18:30:00</td>\n",
       "      <td>2023-06-15</td>\n",
       "      <td>Thursday</td>\n",
       "    </tr>\n",
       "    <tr>\n",
       "      <th>2</th>\n",
       "      <td>P100012</td>\n",
       "      <td>100012</td>\n",
       "      <td>Produce</td>\n",
       "      <td>Fruit</td>\n",
       "      <td>Grapes</td>\n",
       "      <td>False</td>\n",
       "      <td>4.00</td>\n",
       "      <td>200</td>\n",
       "      <td>4.1</td>\n",
       "      <td></td>\n",
       "      <td>2023-06-12 17:22:00</td>\n",
       "      <td>17:22:00</td>\n",
       "      <td>2023-06-15</td>\n",
       "      <td>Thursday</td>\n",
       "    </tr>\n",
       "    <tr>\n",
       "      <th>3</th>\n",
       "      <td>P100013</td>\n",
       "      <td>100013</td>\n",
       "      <td>Produce</td>\n",
       "      <td>Fruit</td>\n",
       "      <td>Grapefruit</td>\n",
       "      <td>False</td>\n",
       "      <td>0.99</td>\n",
       "      <td>50</td>\n",
       "      <td>1.0</td>\n",
       "      <td></td>\n",
       "      <td>2023-06-12 16:29:00</td>\n",
       "      <td>16:29:00</td>\n",
       "      <td>2023-06-15</td>\n",
       "      <td>Thursday</td>\n",
       "    </tr>\n",
       "    <tr>\n",
       "      <th>4</th>\n",
       "      <td>P100014</td>\n",
       "      <td>100014</td>\n",
       "      <td>Produce</td>\n",
       "      <td>Fruit</td>\n",
       "      <td>Organic Strawberries</td>\n",
       "      <td>True</td>\n",
       "      <td>3.99</td>\n",
       "      <td>148</td>\n",
       "      <td>3.0</td>\n",
       "      <td></td>\n",
       "      <td>2023-06-12 18:10:00</td>\n",
       "      <td>18:10:00</td>\n",
       "      <td>2023-06-15</td>\n",
       "      <td>Thursday</td>\n",
       "    </tr>\n",
       "  </tbody>\n",
       "</table>\n",
       "</div>"
      ],
      "text/plain": [
       "  Product_ID  Product_ID_Num Category Subcategory                  Item  \\\n",
       "0    P100010          100010  Produce       Fruit                 Apple   \n",
       "1    P100011          100011  Produce       Fruit                Banana   \n",
       "2    P100012          100012  Produce       Fruit                Grapes   \n",
       "3    P100013          100013  Produce       Fruit            Grapefruit   \n",
       "4    P100014          100014  Produce       Fruit  Organic Strawberries   \n",
       "\n",
       "   Organic  Price_Dollars  Inventory  Percent Inventory Low Inventory  \\\n",
       "0    False           1.50        349                7.2                 \n",
       "1    False           0.40        500               10.3                 \n",
       "2    False           4.00        200                4.1                 \n",
       "3    False           0.99         50                1.0                 \n",
       "4     True           3.99        148                3.0                 \n",
       "\n",
       "         Last_Updated Last_Updated_Time Next_Scheduled_Shipment  \\\n",
       "0 2023-06-12 15:35:00          15:35:00              2023-06-15   \n",
       "1 2023-06-12 18:30:00          18:30:00              2023-06-15   \n",
       "2 2023-06-12 17:22:00          17:22:00              2023-06-15   \n",
       "3 2023-06-12 16:29:00          16:29:00              2023-06-15   \n",
       "4 2023-06-12 18:10:00          18:10:00              2023-06-15   \n",
       "\n",
       "  Shipment_Date_DOW  \n",
       "0          Thursday  \n",
       "1          Thursday  \n",
       "2          Thursday  \n",
       "3          Thursday  \n",
       "4          Thursday  "
      ]
     },
     "execution_count": 2,
     "metadata": {},
     "output_type": "execute_result"
    }
   ],
   "source": [
    "df = pd.read_pickle(r\"D:\\Coding\\Data-Prep-EDA\\Code\\Data\\groceries_with_new_columns.pkl\")\n",
    "df.head()"
   ]
  },
  {
   "cell_type": "code",
   "execution_count": 3,
   "id": "f33c3ce3-61ff-456c-9af3-b789f6ce187b",
   "metadata": {},
   "outputs": [
    {
     "data": {
      "text/plain": [
       "Subcategory\n",
       "Dairy            3.070000\n",
       "Frozen Fruit     9.475000\n",
       "Frozen Snacks    5.975000\n",
       "Fruit            2.811667\n",
       "Meat             9.156667\n",
       "Snacks           3.095000\n",
       "Vegetable        1.690000\n",
       "Name: Price_Dollars, dtype: float64"
      ]
     },
     "execution_count": 3,
     "metadata": {},
     "output_type": "execute_result"
    }
   ],
   "source": [
    "df.groupby(\"Subcategory\")[\"Price_Dollars\"].mean()"
   ]
  },
  {
   "cell_type": "code",
   "execution_count": 5,
   "id": "cd57281e-43b2-4c27-a731-c3605f261908",
   "metadata": {},
   "outputs": [
    {
     "data": {
      "text/plain": [
       "<Axes: xlabel='Subcategory'>"
      ]
     },
     "execution_count": 5,
     "metadata": {},
     "output_type": "execute_result"
    },
    {
     "data": {
      "image/png": "[encoded data removed]",
      "text/plain": [
       "<Figure size 640x480 with 1 Axes>"
      ]
     },
     "metadata": {},
     "output_type": "display_data"
    }
   ],
   "source": [
    "df.groupby(\"Subcategory\")[\"Price_Dollars\"].mean().plot.bar()"
   ]
  },
  {
   "cell_type": "code",
   "execution_count": null,
   "id": "b74f616d-5e27-4c7f-94a1-5b50ee8f5a6d",
   "metadata": {},
   "outputs": [],
   "source": []
  }
 ],
 "metadata": {
  "kernelspec": {
   "display_name": "Python 3 (ipykernel)",
   "language": "python",
   "name": "python3"
  },
  "language_info": {
   "codemirror_mode": {
    "name": "ipython",
    "version": 3
   },
   "file_extension": ".py",
   "mimetype": "text/x-python",
   "name": "python",
   "nbconvert_exporter": "python",
   "pygments_lexer": "ipython3",
   "version": "3.12.3"
  }
 },
 "nbformat": 4,
 "nbformat_minor": 5
}
