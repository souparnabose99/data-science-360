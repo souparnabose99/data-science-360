{
 "cells": [
  {
   "cell_type": "code",
   "execution_count": 1,
   "id": "ec979020-f3ad-4ada-ba3e-485e6542ae8f",
   "metadata": {},
   "outputs": [],
   "source": [
    "import numpy as np\n",
    "import pandas as pd\n",
    "import seaborn as sns\n",
    "import matplotlib.pyplot as plt\n",
    "%matplotlib inline"
   ]
  },
  {
   "cell_type": "code",
   "execution_count": 2,
   "id": "4c448ff6-7bfa-452c-a67c-16ece3ce2371",
   "metadata": {},
   "outputs": [],
   "source": [
    "df = pd.read_csv(r\"D:\\Coding\\Data-Prep-EDA\\Code\\Cafe-Rewards-Offers\\Data\\customers.csv\")"
   ]
  },
  {
   "cell_type": "code",
   "execution_count": 3,
   "id": "ab5672c8-eba9-422c-816f-17c9a4567740",
   "metadata": {},
   "outputs": [
    {
     "data": {
      "text/html": [
       "<div>\n",
       "<style scoped>\n",
       "    .dataframe tbody tr th:only-of-type {\n",
       "        vertical-align: middle;\n",
       "    }\n",
       "\n",
       "    .dataframe tbody tr th {\n",
       "        vertical-align: top;\n",
       "    }\n",
       "\n",
       "    .dataframe thead th {\n",
       "        text-align: right;\n",
       "    }\n",
       "</style>\n",
       "<table border=\"1\" class=\"dataframe\">\n",
       "  <thead>\n",
       "    <tr style=\"text-align: right;\">\n",
       "      <th></th>\n",
       "      <th>customer_id</th>\n",
       "      <th>became_member_on</th>\n",
       "      <th>gender</th>\n",
       "      <th>age</th>\n",
       "      <th>income</th>\n",
       "    </tr>\n",
       "  </thead>\n",
       "  <tbody>\n",
       "    <tr>\n",
       "      <th>0</th>\n",
       "      <td>68be06ca386d4c31939f3a4f0e3dd783</td>\n",
       "      <td>20170212</td>\n",
       "      <td>NaN</td>\n",
       "      <td>118</td>\n",
       "      <td>NaN</td>\n",
       "    </tr>\n",
       "    <tr>\n",
       "      <th>1</th>\n",
       "      <td>0610b486422d4921ae7d2bf64640c50b</td>\n",
       "      <td>20170715</td>\n",
       "      <td>F</td>\n",
       "      <td>55</td>\n",
       "      <td>112000.0</td>\n",
       "    </tr>\n",
       "    <tr>\n",
       "      <th>2</th>\n",
       "      <td>38fe809add3b4fcf9315a9694bb96ff5</td>\n",
       "      <td>20180712</td>\n",
       "      <td>NaN</td>\n",
       "      <td>118</td>\n",
       "      <td>NaN</td>\n",
       "    </tr>\n",
       "    <tr>\n",
       "      <th>3</th>\n",
       "      <td>78afa995795e4d85b5d9ceeca43f5fef</td>\n",
       "      <td>20170509</td>\n",
       "      <td>F</td>\n",
       "      <td>75</td>\n",
       "      <td>100000.0</td>\n",
       "    </tr>\n",
       "    <tr>\n",
       "      <th>4</th>\n",
       "      <td>a03223e636434f42ac4c3df47e8bac43</td>\n",
       "      <td>20170804</td>\n",
       "      <td>NaN</td>\n",
       "      <td>118</td>\n",
       "      <td>NaN</td>\n",
       "    </tr>\n",
       "  </tbody>\n",
       "</table>\n",
       "</div>"
      ],
      "text/plain": [
       "                        customer_id  became_member_on gender  age    income\n",
       "0  68be06ca386d4c31939f3a4f0e3dd783          20170212    NaN  118       NaN\n",
       "1  0610b486422d4921ae7d2bf64640c50b          20170715      F   55  112000.0\n",
       "2  38fe809add3b4fcf9315a9694bb96ff5          20180712    NaN  118       NaN\n",
       "3  78afa995795e4d85b5d9ceeca43f5fef          20170509      F   75  100000.0\n",
       "4  a03223e636434f42ac4c3df47e8bac43          20170804    NaN  118       NaN"
      ]
     },
     "execution_count": 3,
     "metadata": {},
     "output_type": "execute_result"
    }
   ],
   "source": [
    "df.head()"
   ]
  },
  {
   "cell_type": "code",
   "execution_count": 4,
   "id": "f151c23e-9f2d-4c66-a8a1-98d0c794fe29",
   "metadata": {},
   "outputs": [
    {
     "name": "stdout",
     "output_type": "stream",
     "text": [
      "<class 'pandas.core.frame.DataFrame'>\n",
      "RangeIndex: 17000 entries, 0 to 16999\n",
      "Data columns (total 5 columns):\n",
      " #   Column            Non-Null Count  Dtype  \n",
      "---  ------            --------------  -----  \n",
      " 0   customer_id       17000 non-null  object \n",
      " 1   became_member_on  17000 non-null  int64  \n",
      " 2   gender            14825 non-null  object \n",
      " 3   age               17000 non-null  int64  \n",
      " 4   income            14825 non-null  float64\n",
      "dtypes: float64(1), int64(2), object(2)\n",
      "memory usage: 664.2+ KB\n"
     ]
    }
   ],
   "source": [
    "df.info()"
   ]
  },
  {
   "cell_type": "code",
   "execution_count": 5,
   "id": "814c01c1-2ab5-486a-9658-e422a74dff8e",
   "metadata": {},
   "outputs": [
    {
     "data": {
      "text/html": [
       "<div>\n",
       "<style scoped>\n",
       "    .dataframe tbody tr th:only-of-type {\n",
       "        vertical-align: middle;\n",
       "    }\n",
       "\n",
       "    .dataframe tbody tr th {\n",
       "        vertical-align: top;\n",
       "    }\n",
       "\n",
       "    .dataframe thead th {\n",
       "        text-align: right;\n",
       "    }\n",
       "</style>\n",
       "<table border=\"1\" class=\"dataframe\">\n",
       "  <thead>\n",
       "    <tr style=\"text-align: right;\">\n",
       "      <th></th>\n",
       "      <th>customer_id</th>\n",
       "      <th>became_member_on</th>\n",
       "      <th>gender</th>\n",
       "      <th>age</th>\n",
       "      <th>income</th>\n",
       "    </tr>\n",
       "  </thead>\n",
       "  <tbody>\n",
       "    <tr>\n",
       "      <th>0</th>\n",
       "      <td>68be06ca386d4c31939f3a4f0e3dd783</td>\n",
       "      <td>20170212</td>\n",
       "      <td>NaN</td>\n",
       "      <td>118</td>\n",
       "      <td>NaN</td>\n",
       "    </tr>\n",
       "    <tr>\n",
       "      <th>2</th>\n",
       "      <td>38fe809add3b4fcf9315a9694bb96ff5</td>\n",
       "      <td>20180712</td>\n",
       "      <td>NaN</td>\n",
       "      <td>118</td>\n",
       "      <td>NaN</td>\n",
       "    </tr>\n",
       "    <tr>\n",
       "      <th>4</th>\n",
       "      <td>a03223e636434f42ac4c3df47e8bac43</td>\n",
       "      <td>20170804</td>\n",
       "      <td>NaN</td>\n",
       "      <td>118</td>\n",
       "      <td>NaN</td>\n",
       "    </tr>\n",
       "    <tr>\n",
       "      <th>6</th>\n",
       "      <td>8ec6ce2a7e7949b1bf142def7d0e0586</td>\n",
       "      <td>20170925</td>\n",
       "      <td>NaN</td>\n",
       "      <td>118</td>\n",
       "      <td>NaN</td>\n",
       "    </tr>\n",
       "    <tr>\n",
       "      <th>7</th>\n",
       "      <td>68617ca6246f4fbc85e91a2a49552598</td>\n",
       "      <td>20171002</td>\n",
       "      <td>NaN</td>\n",
       "      <td>118</td>\n",
       "      <td>NaN</td>\n",
       "    </tr>\n",
       "    <tr>\n",
       "      <th>9</th>\n",
       "      <td>8974fc5686fe429db53ddde067b88302</td>\n",
       "      <td>20161122</td>\n",
       "      <td>NaN</td>\n",
       "      <td>118</td>\n",
       "      <td>NaN</td>\n",
       "    </tr>\n",
       "    <tr>\n",
       "      <th>10</th>\n",
       "      <td>c4863c7985cf408faee930f111475da3</td>\n",
       "      <td>20170824</td>\n",
       "      <td>NaN</td>\n",
       "      <td>118</td>\n",
       "      <td>NaN</td>\n",
       "    </tr>\n",
       "    <tr>\n",
       "      <th>11</th>\n",
       "      <td>148adfcaa27d485b82f323aaaad036bd</td>\n",
       "      <td>20150919</td>\n",
       "      <td>NaN</td>\n",
       "      <td>118</td>\n",
       "      <td>NaN</td>\n",
       "    </tr>\n",
       "    <tr>\n",
       "      <th>17</th>\n",
       "      <td>744d603ef08c4f33af5a61c8c7628d1c</td>\n",
       "      <td>20170801</td>\n",
       "      <td>NaN</td>\n",
       "      <td>118</td>\n",
       "      <td>NaN</td>\n",
       "    </tr>\n",
       "    <tr>\n",
       "      <th>23</th>\n",
       "      <td>2b826eba31074a059d63b0ae8f50b7d5</td>\n",
       "      <td>20170907</td>\n",
       "      <td>NaN</td>\n",
       "      <td>118</td>\n",
       "      <td>NaN</td>\n",
       "    </tr>\n",
       "  </tbody>\n",
       "</table>\n",
       "</div>"
      ],
      "text/plain": [
       "                         customer_id  became_member_on gender  age  income\n",
       "0   68be06ca386d4c31939f3a4f0e3dd783          20170212    NaN  118     NaN\n",
       "2   38fe809add3b4fcf9315a9694bb96ff5          20180712    NaN  118     NaN\n",
       "4   a03223e636434f42ac4c3df47e8bac43          20170804    NaN  118     NaN\n",
       "6   8ec6ce2a7e7949b1bf142def7d0e0586          20170925    NaN  118     NaN\n",
       "7   68617ca6246f4fbc85e91a2a49552598          20171002    NaN  118     NaN\n",
       "9   8974fc5686fe429db53ddde067b88302          20161122    NaN  118     NaN\n",
       "10  c4863c7985cf408faee930f111475da3          20170824    NaN  118     NaN\n",
       "11  148adfcaa27d485b82f323aaaad036bd          20150919    NaN  118     NaN\n",
       "17  744d603ef08c4f33af5a61c8c7628d1c          20170801    NaN  118     NaN\n",
       "23  2b826eba31074a059d63b0ae8f50b7d5          20170907    NaN  118     NaN"
      ]
     },
     "execution_count": 5,
     "metadata": {},
     "output_type": "execute_result"
    }
   ],
   "source": [
    "df[df.gender.isna()].head(10)"
   ]
  },
  {
   "cell_type": "code",
   "execution_count": 6,
   "id": "a958f467-a82a-48c6-8aff-b6ee73fbe3d1",
   "metadata": {},
   "outputs": [
    {
     "data": {
      "text/plain": [
       "age\n",
       "118    2175\n",
       "Name: count, dtype: int64"
      ]
     },
     "execution_count": 6,
     "metadata": {},
     "output_type": "execute_result"
    }
   ],
   "source": [
    "missing_data_df = df[df.gender.isna()]\n",
    "missing_data_df.age.value_counts()"
   ]
  },
  {
   "cell_type": "code",
   "execution_count": 7,
   "id": "7c4365bf-aac4-4aa5-8a91-17f81de092e9",
   "metadata": {},
   "outputs": [
    {
     "name": "stdout",
     "output_type": "stream",
     "text": [
      "<class 'pandas.core.frame.DataFrame'>\n",
      "RangeIndex: 17000 entries, 0 to 16999\n",
      "Data columns (total 5 columns):\n",
      " #   Column            Non-Null Count  Dtype  \n",
      "---  ------            --------------  -----  \n",
      " 0   customer_id       17000 non-null  object \n",
      " 1   became_member_on  17000 non-null  int64  \n",
      " 2   gender            14825 non-null  object \n",
      " 3   age               17000 non-null  int64  \n",
      " 4   income            14825 non-null  float64\n",
      "dtypes: float64(1), int64(2), object(2)\n",
      "memory usage: 664.2+ KB\n"
     ]
    }
   ],
   "source": [
    "old_df = df.copy()\n",
    "old_df.info()"
   ]
  },
  {
   "cell_type": "code",
   "execution_count": 8,
   "id": "e710385c-3efe-4aa2-88db-26c78211e5a2",
   "metadata": {},
   "outputs": [
    {
     "name": "stdout",
     "output_type": "stream",
     "text": [
      "<class 'pandas.core.frame.DataFrame'>\n",
      "Index: 14825 entries, 1 to 16999\n",
      "Data columns (total 5 columns):\n",
      " #   Column            Non-Null Count  Dtype  \n",
      "---  ------            --------------  -----  \n",
      " 0   customer_id       14825 non-null  object \n",
      " 1   became_member_on  14825 non-null  int64  \n",
      " 2   gender            14825 non-null  object \n",
      " 3   age               14825 non-null  int64  \n",
      " 4   income            14825 non-null  float64\n",
      "dtypes: float64(1), int64(2), object(2)\n",
      "memory usage: 694.9+ KB\n"
     ]
    }
   ],
   "source": [
    "df.dropna(inplace=True)\n",
    "df.info()"
   ]
  },
  {
   "cell_type": "code",
   "execution_count": 9,
   "id": "653acb72-1dfd-4f47-87d0-715f4a51c2f6",
   "metadata": {},
   "outputs": [
    {
     "data": {
      "text/html": [
       "<div>\n",
       "<style scoped>\n",
       "    .dataframe tbody tr th:only-of-type {\n",
       "        vertical-align: middle;\n",
       "    }\n",
       "\n",
       "    .dataframe tbody tr th {\n",
       "        vertical-align: top;\n",
       "    }\n",
       "\n",
       "    .dataframe thead th {\n",
       "        text-align: right;\n",
       "    }\n",
       "</style>\n",
       "<table border=\"1\" class=\"dataframe\">\n",
       "  <thead>\n",
       "    <tr style=\"text-align: right;\">\n",
       "      <th></th>\n",
       "      <th>customer_id</th>\n",
       "      <th>became_member_on</th>\n",
       "      <th>gender</th>\n",
       "      <th>age</th>\n",
       "      <th>income</th>\n",
       "    </tr>\n",
       "  </thead>\n",
       "  <tbody>\n",
       "    <tr>\n",
       "      <th>1</th>\n",
       "      <td>0610b486422d4921ae7d2bf64640c50b</td>\n",
       "      <td>20170715</td>\n",
       "      <td>F</td>\n",
       "      <td>55</td>\n",
       "      <td>112000.0</td>\n",
       "    </tr>\n",
       "    <tr>\n",
       "      <th>3</th>\n",
       "      <td>78afa995795e4d85b5d9ceeca43f5fef</td>\n",
       "      <td>20170509</td>\n",
       "      <td>F</td>\n",
       "      <td>75</td>\n",
       "      <td>100000.0</td>\n",
       "    </tr>\n",
       "    <tr>\n",
       "      <th>5</th>\n",
       "      <td>e2127556f4f64592b11af22de27a7932</td>\n",
       "      <td>20180426</td>\n",
       "      <td>M</td>\n",
       "      <td>68</td>\n",
       "      <td>70000.0</td>\n",
       "    </tr>\n",
       "    <tr>\n",
       "      <th>8</th>\n",
       "      <td>389bc3fa690240e798340f5a15918d5c</td>\n",
       "      <td>20180209</td>\n",
       "      <td>M</td>\n",
       "      <td>65</td>\n",
       "      <td>53000.0</td>\n",
       "    </tr>\n",
       "    <tr>\n",
       "      <th>12</th>\n",
       "      <td>2eeac8d8feae4a8cad5a6af0499a211d</td>\n",
       "      <td>20171111</td>\n",
       "      <td>M</td>\n",
       "      <td>58</td>\n",
       "      <td>51000.0</td>\n",
       "    </tr>\n",
       "    <tr>\n",
       "      <th>13</th>\n",
       "      <td>aa4862eba776480b8bb9c68455b8c2e1</td>\n",
       "      <td>20170911</td>\n",
       "      <td>F</td>\n",
       "      <td>61</td>\n",
       "      <td>57000.0</td>\n",
       "    </tr>\n",
       "    <tr>\n",
       "      <th>14</th>\n",
       "      <td>e12aeaf2d47d42479ea1c4ac3d8286c6</td>\n",
       "      <td>20140213</td>\n",
       "      <td>M</td>\n",
       "      <td>26</td>\n",
       "      <td>46000.0</td>\n",
       "    </tr>\n",
       "    <tr>\n",
       "      <th>15</th>\n",
       "      <td>31dda685af34476cad5bc968bdb01c53</td>\n",
       "      <td>20160211</td>\n",
       "      <td>F</td>\n",
       "      <td>62</td>\n",
       "      <td>71000.0</td>\n",
       "    </tr>\n",
       "    <tr>\n",
       "      <th>16</th>\n",
       "      <td>62cf5e10845442329191fc246e7bcea3</td>\n",
       "      <td>20141113</td>\n",
       "      <td>M</td>\n",
       "      <td>49</td>\n",
       "      <td>52000.0</td>\n",
       "    </tr>\n",
       "    <tr>\n",
       "      <th>18</th>\n",
       "      <td>6445de3b47274c759400cd68131d91b4</td>\n",
       "      <td>20171231</td>\n",
       "      <td>M</td>\n",
       "      <td>57</td>\n",
       "      <td>42000.0</td>\n",
       "    </tr>\n",
       "  </tbody>\n",
       "</table>\n",
       "</div>"
      ],
      "text/plain": [
       "                         customer_id  became_member_on gender  age    income\n",
       "1   0610b486422d4921ae7d2bf64640c50b          20170715      F   55  112000.0\n",
       "3   78afa995795e4d85b5d9ceeca43f5fef          20170509      F   75  100000.0\n",
       "5   e2127556f4f64592b11af22de27a7932          20180426      M   68   70000.0\n",
       "8   389bc3fa690240e798340f5a15918d5c          20180209      M   65   53000.0\n",
       "12  2eeac8d8feae4a8cad5a6af0499a211d          20171111      M   58   51000.0\n",
       "13  aa4862eba776480b8bb9c68455b8c2e1          20170911      F   61   57000.0\n",
       "14  e12aeaf2d47d42479ea1c4ac3d8286c6          20140213      M   26   46000.0\n",
       "15  31dda685af34476cad5bc968bdb01c53          20160211      F   62   71000.0\n",
       "16  62cf5e10845442329191fc246e7bcea3          20141113      M   49   52000.0\n",
       "18  6445de3b47274c759400cd68131d91b4          20171231      M   57   42000.0"
      ]
     },
     "execution_count": 9,
     "metadata": {},
     "output_type": "execute_result"
    }
   ],
   "source": [
    "df.head(10)"
   ]
  },
  {
   "cell_type": "code",
   "execution_count": 10,
   "id": "b77f9419-7706-474c-a34c-eee5929de3db",
   "metadata": {},
   "outputs": [
    {
     "data": {
      "text/plain": [
       "101"
      ]
     },
     "execution_count": 10,
     "metadata": {},
     "output_type": "execute_result"
    }
   ],
   "source": [
    "df.age.max()"
   ]
  },
  {
   "cell_type": "code",
   "execution_count": 11,
   "id": "e4de458a-fdc1-4b75-bcdf-e737a08c7ee4",
   "metadata": {},
   "outputs": [
    {
     "data": {
      "text/plain": [
       "18"
      ]
     },
     "execution_count": 11,
     "metadata": {},
     "output_type": "execute_result"
    }
   ],
   "source": [
    "df.age.min()"
   ]
  },
  {
   "cell_type": "code",
   "execution_count": 12,
   "id": "5c164f2f-cfbb-4f07-9ece-ff57d6cb5f9d",
   "metadata": {},
   "outputs": [
    {
     "name": "stdout",
     "output_type": "stream",
     "text": [
      "<class 'pandas.core.frame.DataFrame'>\n",
      "Index: 14825 entries, 1 to 16999\n",
      "Data columns (total 5 columns):\n",
      " #   Column            Non-Null Count  Dtype \n",
      "---  ------            --------------  ----- \n",
      " 0   customer_id       14825 non-null  object\n",
      " 1   became_member_on  14825 non-null  int64 \n",
      " 2   gender            14825 non-null  object\n",
      " 3   age               14825 non-null  int64 \n",
      " 4   income            14825 non-null  int64 \n",
      "dtypes: int64(3), object(2)\n",
      "memory usage: 694.9+ KB\n"
     ]
    }
   ],
   "source": [
    "df.income =  df.income.astype(\"int64\")\n",
    "df.info()"
   ]
  },
  {
   "cell_type": "code",
   "execution_count": 13,
   "id": "ae29e541-766b-4491-a3aa-b379dbf7f9c9",
   "metadata": {},
   "outputs": [
    {
     "data": {
      "text/html": [
       "<div>\n",
       "<style scoped>\n",
       "    .dataframe tbody tr th:only-of-type {\n",
       "        vertical-align: middle;\n",
       "    }\n",
       "\n",
       "    .dataframe tbody tr th {\n",
       "        vertical-align: top;\n",
       "    }\n",
       "\n",
       "    .dataframe thead th {\n",
       "        text-align: right;\n",
       "    }\n",
       "</style>\n",
       "<table border=\"1\" class=\"dataframe\">\n",
       "  <thead>\n",
       "    <tr style=\"text-align: right;\">\n",
       "      <th></th>\n",
       "      <th>customer_id</th>\n",
       "      <th>became_member_on</th>\n",
       "      <th>gender</th>\n",
       "      <th>age</th>\n",
       "      <th>income</th>\n",
       "    </tr>\n",
       "  </thead>\n",
       "  <tbody>\n",
       "    <tr>\n",
       "      <th>1</th>\n",
       "      <td>0610b486422d4921ae7d2bf64640c50b</td>\n",
       "      <td>20170715</td>\n",
       "      <td>F</td>\n",
       "      <td>55</td>\n",
       "      <td>112000</td>\n",
       "    </tr>\n",
       "    <tr>\n",
       "      <th>3</th>\n",
       "      <td>78afa995795e4d85b5d9ceeca43f5fef</td>\n",
       "      <td>20170509</td>\n",
       "      <td>F</td>\n",
       "      <td>75</td>\n",
       "      <td>100000</td>\n",
       "    </tr>\n",
       "    <tr>\n",
       "      <th>5</th>\n",
       "      <td>e2127556f4f64592b11af22de27a7932</td>\n",
       "      <td>20180426</td>\n",
       "      <td>M</td>\n",
       "      <td>68</td>\n",
       "      <td>70000</td>\n",
       "    </tr>\n",
       "    <tr>\n",
       "      <th>8</th>\n",
       "      <td>389bc3fa690240e798340f5a15918d5c</td>\n",
       "      <td>20180209</td>\n",
       "      <td>M</td>\n",
       "      <td>65</td>\n",
       "      <td>53000</td>\n",
       "    </tr>\n",
       "    <tr>\n",
       "      <th>12</th>\n",
       "      <td>2eeac8d8feae4a8cad5a6af0499a211d</td>\n",
       "      <td>20171111</td>\n",
       "      <td>M</td>\n",
       "      <td>58</td>\n",
       "      <td>51000</td>\n",
       "    </tr>\n",
       "    <tr>\n",
       "      <th>13</th>\n",
       "      <td>aa4862eba776480b8bb9c68455b8c2e1</td>\n",
       "      <td>20170911</td>\n",
       "      <td>F</td>\n",
       "      <td>61</td>\n",
       "      <td>57000</td>\n",
       "    </tr>\n",
       "    <tr>\n",
       "      <th>14</th>\n",
       "      <td>e12aeaf2d47d42479ea1c4ac3d8286c6</td>\n",
       "      <td>20140213</td>\n",
       "      <td>M</td>\n",
       "      <td>26</td>\n",
       "      <td>46000</td>\n",
       "    </tr>\n",
       "    <tr>\n",
       "      <th>15</th>\n",
       "      <td>31dda685af34476cad5bc968bdb01c53</td>\n",
       "      <td>20160211</td>\n",
       "      <td>F</td>\n",
       "      <td>62</td>\n",
       "      <td>71000</td>\n",
       "    </tr>\n",
       "    <tr>\n",
       "      <th>16</th>\n",
       "      <td>62cf5e10845442329191fc246e7bcea3</td>\n",
       "      <td>20141113</td>\n",
       "      <td>M</td>\n",
       "      <td>49</td>\n",
       "      <td>52000</td>\n",
       "    </tr>\n",
       "    <tr>\n",
       "      <th>18</th>\n",
       "      <td>6445de3b47274c759400cd68131d91b4</td>\n",
       "      <td>20171231</td>\n",
       "      <td>M</td>\n",
       "      <td>57</td>\n",
       "      <td>42000</td>\n",
       "    </tr>\n",
       "  </tbody>\n",
       "</table>\n",
       "</div>"
      ],
      "text/plain": [
       "                         customer_id  became_member_on gender  age  income\n",
       "1   0610b486422d4921ae7d2bf64640c50b          20170715      F   55  112000\n",
       "3   78afa995795e4d85b5d9ceeca43f5fef          20170509      F   75  100000\n",
       "5   e2127556f4f64592b11af22de27a7932          20180426      M   68   70000\n",
       "8   389bc3fa690240e798340f5a15918d5c          20180209      M   65   53000\n",
       "12  2eeac8d8feae4a8cad5a6af0499a211d          20171111      M   58   51000\n",
       "13  aa4862eba776480b8bb9c68455b8c2e1          20170911      F   61   57000\n",
       "14  e12aeaf2d47d42479ea1c4ac3d8286c6          20140213      M   26   46000\n",
       "15  31dda685af34476cad5bc968bdb01c53          20160211      F   62   71000\n",
       "16  62cf5e10845442329191fc246e7bcea3          20141113      M   49   52000\n",
       "18  6445de3b47274c759400cd68131d91b4          20171231      M   57   42000"
      ]
     },
     "execution_count": 13,
     "metadata": {},
     "output_type": "execute_result"
    }
   ],
   "source": [
    "df.head(10)"
   ]
  },
  {
   "cell_type": "code",
   "execution_count": 14,
   "id": "f013a09d-22ed-4468-8bda-716341005f08",
   "metadata": {},
   "outputs": [
    {
     "data": {
      "text/plain": [
       "(120000, 30000)"
      ]
     },
     "execution_count": 14,
     "metadata": {},
     "output_type": "execute_result"
    }
   ],
   "source": [
    "df.income.max(), df.income.min()"
   ]
  },
  {
   "cell_type": "code",
   "execution_count": 15,
   "id": "0141b3f8-af3b-4d61-a523-00676f0aa9c2",
   "metadata": {},
   "outputs": [],
   "source": [
    "def age_bracketing(val):\n",
    "    if val <= 25:\n",
    "        return \"Young\"\n",
    "    elif val > 25 and val <= 60:\n",
    "        return \"Adult\"\n",
    "    else:\n",
    "        return \"Senior Citizen\""
   ]
  },
  {
   "cell_type": "code",
   "execution_count": 16,
   "id": "fb23b538-e967-4791-bcd8-6b0dcb269d52",
   "metadata": {},
   "outputs": [
    {
     "data": {
      "text/html": [
       "<div>\n",
       "<style scoped>\n",
       "    .dataframe tbody tr th:only-of-type {\n",
       "        vertical-align: middle;\n",
       "    }\n",
       "\n",
       "    .dataframe tbody tr th {\n",
       "        vertical-align: top;\n",
       "    }\n",
       "\n",
       "    .dataframe thead th {\n",
       "        text-align: right;\n",
       "    }\n",
       "</style>\n",
       "<table border=\"1\" class=\"dataframe\">\n",
       "  <thead>\n",
       "    <tr style=\"text-align: right;\">\n",
       "      <th></th>\n",
       "      <th>customer_id</th>\n",
       "      <th>became_member_on</th>\n",
       "      <th>gender</th>\n",
       "      <th>age</th>\n",
       "      <th>income</th>\n",
       "      <th>age_bracket</th>\n",
       "    </tr>\n",
       "  </thead>\n",
       "  <tbody>\n",
       "    <tr>\n",
       "      <th>1</th>\n",
       "      <td>0610b486422d4921ae7d2bf64640c50b</td>\n",
       "      <td>20170715</td>\n",
       "      <td>F</td>\n",
       "      <td>55</td>\n",
       "      <td>112000</td>\n",
       "      <td>Adult</td>\n",
       "    </tr>\n",
       "    <tr>\n",
       "      <th>3</th>\n",
       "      <td>78afa995795e4d85b5d9ceeca43f5fef</td>\n",
       "      <td>20170509</td>\n",
       "      <td>F</td>\n",
       "      <td>75</td>\n",
       "      <td>100000</td>\n",
       "      <td>Senior Citizen</td>\n",
       "    </tr>\n",
       "    <tr>\n",
       "      <th>5</th>\n",
       "      <td>e2127556f4f64592b11af22de27a7932</td>\n",
       "      <td>20180426</td>\n",
       "      <td>M</td>\n",
       "      <td>68</td>\n",
       "      <td>70000</td>\n",
       "      <td>Senior Citizen</td>\n",
       "    </tr>\n",
       "    <tr>\n",
       "      <th>8</th>\n",
       "      <td>389bc3fa690240e798340f5a15918d5c</td>\n",
       "      <td>20180209</td>\n",
       "      <td>M</td>\n",
       "      <td>65</td>\n",
       "      <td>53000</td>\n",
       "      <td>Senior Citizen</td>\n",
       "    </tr>\n",
       "    <tr>\n",
       "      <th>12</th>\n",
       "      <td>2eeac8d8feae4a8cad5a6af0499a211d</td>\n",
       "      <td>20171111</td>\n",
       "      <td>M</td>\n",
       "      <td>58</td>\n",
       "      <td>51000</td>\n",
       "      <td>Adult</td>\n",
       "    </tr>\n",
       "    <tr>\n",
       "      <th>13</th>\n",
       "      <td>aa4862eba776480b8bb9c68455b8c2e1</td>\n",
       "      <td>20170911</td>\n",
       "      <td>F</td>\n",
       "      <td>61</td>\n",
       "      <td>57000</td>\n",
       "      <td>Senior Citizen</td>\n",
       "    </tr>\n",
       "    <tr>\n",
       "      <th>14</th>\n",
       "      <td>e12aeaf2d47d42479ea1c4ac3d8286c6</td>\n",
       "      <td>20140213</td>\n",
       "      <td>M</td>\n",
       "      <td>26</td>\n",
       "      <td>46000</td>\n",
       "      <td>Adult</td>\n",
       "    </tr>\n",
       "    <tr>\n",
       "      <th>15</th>\n",
       "      <td>31dda685af34476cad5bc968bdb01c53</td>\n",
       "      <td>20160211</td>\n",
       "      <td>F</td>\n",
       "      <td>62</td>\n",
       "      <td>71000</td>\n",
       "      <td>Senior Citizen</td>\n",
       "    </tr>\n",
       "    <tr>\n",
       "      <th>16</th>\n",
       "      <td>62cf5e10845442329191fc246e7bcea3</td>\n",
       "      <td>20141113</td>\n",
       "      <td>M</td>\n",
       "      <td>49</td>\n",
       "      <td>52000</td>\n",
       "      <td>Adult</td>\n",
       "    </tr>\n",
       "    <tr>\n",
       "      <th>18</th>\n",
       "      <td>6445de3b47274c759400cd68131d91b4</td>\n",
       "      <td>20171231</td>\n",
       "      <td>M</td>\n",
       "      <td>57</td>\n",
       "      <td>42000</td>\n",
       "      <td>Adult</td>\n",
       "    </tr>\n",
       "  </tbody>\n",
       "</table>\n",
       "</div>"
      ],
      "text/plain": [
       "                         customer_id  became_member_on gender  age  income  \\\n",
       "1   0610b486422d4921ae7d2bf64640c50b          20170715      F   55  112000   \n",
       "3   78afa995795e4d85b5d9ceeca43f5fef          20170509      F   75  100000   \n",
       "5   e2127556f4f64592b11af22de27a7932          20180426      M   68   70000   \n",
       "8   389bc3fa690240e798340f5a15918d5c          20180209      M   65   53000   \n",
       "12  2eeac8d8feae4a8cad5a6af0499a211d          20171111      M   58   51000   \n",
       "13  aa4862eba776480b8bb9c68455b8c2e1          20170911      F   61   57000   \n",
       "14  e12aeaf2d47d42479ea1c4ac3d8286c6          20140213      M   26   46000   \n",
       "15  31dda685af34476cad5bc968bdb01c53          20160211      F   62   71000   \n",
       "16  62cf5e10845442329191fc246e7bcea3          20141113      M   49   52000   \n",
       "18  6445de3b47274c759400cd68131d91b4          20171231      M   57   42000   \n",
       "\n",
       "       age_bracket  \n",
       "1            Adult  \n",
       "3   Senior Citizen  \n",
       "5   Senior Citizen  \n",
       "8   Senior Citizen  \n",
       "12           Adult  \n",
       "13  Senior Citizen  \n",
       "14           Adult  \n",
       "15  Senior Citizen  \n",
       "16           Adult  \n",
       "18           Adult  "
      ]
     },
     "execution_count": 16,
     "metadata": {},
     "output_type": "execute_result"
    }
   ],
   "source": [
    "df[\"age_bracket\"] = df[\"age\"].apply(age_bracketing)\n",
    "df.head(10)"
   ]
  },
  {
   "cell_type": "code",
   "execution_count": 17,
   "id": "80f81aad-b141-466c-8aef-ab0bd007a003",
   "metadata": {},
   "outputs": [
    {
     "data": {
      "text/plain": [
       "<Axes: xlabel='age_bracket', ylabel='count'>"
      ]
     },
     "execution_count": 17,
     "metadata": {},
     "output_type": "execute_result"
    },
    {
     "data": {
      "image/png": "[encoded data removed]",
      "text/plain": [
       "<Figure size 600x400 with 1 Axes>"
      ]
     },
     "metadata": {},
     "output_type": "display_data"
    }
   ],
   "source": [
    "sns.set_style('whitegrid')\n",
    "plt.figure(figsize=(6,4))\n",
    "sns.countplot(x='age_bracket',data=df, color=\"red\", width=0.4)"
   ]
  },
  {
   "cell_type": "code",
   "execution_count": 18,
   "id": "417001e4-4968-4ed3-9195-692cf0fc202b",
   "metadata": {},
   "outputs": [
    {
     "data": {
      "text/plain": [
       "<Axes: xlabel='age_bracket', ylabel='count'>"
      ]
     },
     "execution_count": 18,
     "metadata": {},
     "output_type": "execute_result"
    },
    {
     "data": {
      "image/png": "[encoded data removed]",
      "text/plain": [
       "<Figure size 700x400 with 1 Axes>"
      ]
     },
     "metadata": {},
     "output_type": "display_data"
    }
   ],
   "source": [
    "plt.figure(figsize=(7,4))\n",
    "sns.countplot(x='age_bracket',data=df,hue='gender')"
   ]
  },
  {
   "cell_type": "code",
   "execution_count": 25,
   "id": "3aa2d149-43a2-4f10-ab05-cc1d5a5c04ba",
   "metadata": {},
   "outputs": [
    {
     "data": {
      "text/plain": [
       "<Axes: xlabel='gender', ylabel='count'>"
      ]
     },
     "execution_count": 25,
     "metadata": {},
     "output_type": "execute_result"
    },
    {
     "data": {
      "image/png": "[encoded data removed]",
      "text/plain": [
       "<Figure size 500x300 with 1 Axes>"
      ]
     },
     "metadata": {},
     "output_type": "display_data"
    }
   ],
   "source": [
    "plt.figure(figsize=(5,3))\n",
    "sns.countplot(x='gender',data=df, color=\"orange\", width=0.4)"
   ]
  },
  {
   "cell_type": "code",
   "execution_count": 26,
   "id": "bdfdf2eb-baf5-45cd-b3ed-ba6438a4dee0",
   "metadata": {},
   "outputs": [
    {
     "data": {
      "text/html": [
       "<div>\n",
       "<style scoped>\n",
       "    .dataframe tbody tr th:only-of-type {\n",
       "        vertical-align: middle;\n",
       "    }\n",
       "\n",
       "    .dataframe tbody tr th {\n",
       "        vertical-align: top;\n",
       "    }\n",
       "\n",
       "    .dataframe thead th {\n",
       "        text-align: right;\n",
       "    }\n",
       "</style>\n",
       "<table border=\"1\" class=\"dataframe\">\n",
       "  <thead>\n",
       "    <tr style=\"text-align: right;\">\n",
       "      <th></th>\n",
       "      <th>customer_id</th>\n",
       "      <th>became_member_on</th>\n",
       "      <th>gender</th>\n",
       "      <th>age</th>\n",
       "      <th>income</th>\n",
       "      <th>age_bracket</th>\n",
       "    </tr>\n",
       "  </thead>\n",
       "  <tbody>\n",
       "    <tr>\n",
       "      <th>1</th>\n",
       "      <td>0610b486422d4921ae7d2bf64640c50b</td>\n",
       "      <td>20170715</td>\n",
       "      <td>F</td>\n",
       "      <td>55</td>\n",
       "      <td>112000</td>\n",
       "      <td>Adult</td>\n",
       "    </tr>\n",
       "    <tr>\n",
       "      <th>3</th>\n",
       "      <td>78afa995795e4d85b5d9ceeca43f5fef</td>\n",
       "      <td>20170509</td>\n",
       "      <td>F</td>\n",
       "      <td>75</td>\n",
       "      <td>100000</td>\n",
       "      <td>Senior Citizen</td>\n",
       "    </tr>\n",
       "    <tr>\n",
       "      <th>5</th>\n",
       "      <td>e2127556f4f64592b11af22de27a7932</td>\n",
       "      <td>20180426</td>\n",
       "      <td>M</td>\n",
       "      <td>68</td>\n",
       "      <td>70000</td>\n",
       "      <td>Senior Citizen</td>\n",
       "    </tr>\n",
       "    <tr>\n",
       "      <th>8</th>\n",
       "      <td>389bc3fa690240e798340f5a15918d5c</td>\n",
       "      <td>20180209</td>\n",
       "      <td>M</td>\n",
       "      <td>65</td>\n",
       "      <td>53000</td>\n",
       "      <td>Senior Citizen</td>\n",
       "    </tr>\n",
       "    <tr>\n",
       "      <th>12</th>\n",
       "      <td>2eeac8d8feae4a8cad5a6af0499a211d</td>\n",
       "      <td>20171111</td>\n",
       "      <td>M</td>\n",
       "      <td>58</td>\n",
       "      <td>51000</td>\n",
       "      <td>Adult</td>\n",
       "    </tr>\n",
       "  </tbody>\n",
       "</table>\n",
       "</div>"
      ],
      "text/plain": [
       "                         customer_id  became_member_on gender  age  income  \\\n",
       "1   0610b486422d4921ae7d2bf64640c50b          20170715      F   55  112000   \n",
       "3   78afa995795e4d85b5d9ceeca43f5fef          20170509      F   75  100000   \n",
       "5   e2127556f4f64592b11af22de27a7932          20180426      M   68   70000   \n",
       "8   389bc3fa690240e798340f5a15918d5c          20180209      M   65   53000   \n",
       "12  2eeac8d8feae4a8cad5a6af0499a211d          20171111      M   58   51000   \n",
       "\n",
       "       age_bracket  \n",
       "1            Adult  \n",
       "3   Senior Citizen  \n",
       "5   Senior Citizen  \n",
       "8   Senior Citizen  \n",
       "12           Adult  "
      ]
     },
     "execution_count": 26,
     "metadata": {},
     "output_type": "execute_result"
    }
   ],
   "source": [
    "df.head()"
   ]
  },
  {
   "cell_type": "code",
   "execution_count": 27,
   "id": "f7742588-9072-4be7-9cb5-1362e09e1685",
   "metadata": {},
   "outputs": [
    {
     "name": "stdout",
     "output_type": "stream",
     "text": [
      "<class 'pandas.core.frame.DataFrame'>\n",
      "Index: 14825 entries, 1 to 16999\n",
      "Data columns (total 6 columns):\n",
      " #   Column            Non-Null Count  Dtype \n",
      "---  ------            --------------  ----- \n",
      " 0   customer_id       14825 non-null  object\n",
      " 1   became_member_on  14825 non-null  int64 \n",
      " 2   gender            14825 non-null  object\n",
      " 3   age               14825 non-null  int64 \n",
      " 4   income            14825 non-null  int64 \n",
      " 5   age_bracket       14825 non-null  object\n",
      "dtypes: int64(3), object(3)\n",
      "memory usage: 810.7+ KB\n"
     ]
    }
   ],
   "source": [
    "df.info()"
   ]
  },
  {
   "cell_type": "code",
   "execution_count": 29,
   "id": "fc03595c-09a4-44f7-823e-730760b7f33a",
   "metadata": {},
   "outputs": [
    {
     "data": {
      "text/html": [
       "<div>\n",
       "<style scoped>\n",
       "    .dataframe tbody tr th:only-of-type {\n",
       "        vertical-align: middle;\n",
       "    }\n",
       "\n",
       "    .dataframe tbody tr th {\n",
       "        vertical-align: top;\n",
       "    }\n",
       "\n",
       "    .dataframe thead th {\n",
       "        text-align: right;\n",
       "    }\n",
       "</style>\n",
       "<table border=\"1\" class=\"dataframe\">\n",
       "  <thead>\n",
       "    <tr style=\"text-align: right;\">\n",
       "      <th></th>\n",
       "      <th>customer_id</th>\n",
       "      <th>became_member_on</th>\n",
       "      <th>gender</th>\n",
       "      <th>age</th>\n",
       "      <th>income</th>\n",
       "      <th>age_bracket</th>\n",
       "    </tr>\n",
       "  </thead>\n",
       "  <tbody>\n",
       "    <tr>\n",
       "      <th>8948</th>\n",
       "      <td>77388a70eaf14433b4efc5d01fa947bf</td>\n",
       "      <td>20130729</td>\n",
       "      <td>M</td>\n",
       "      <td>64</td>\n",
       "      <td>69000</td>\n",
       "      <td>Senior Citizen</td>\n",
       "    </tr>\n",
       "    <tr>\n",
       "      <th>1200</th>\n",
       "      <td>5ffdab087e674149a89324a732b4f993</td>\n",
       "      <td>20130730</td>\n",
       "      <td>M</td>\n",
       "      <td>52</td>\n",
       "      <td>65000</td>\n",
       "      <td>Adult</td>\n",
       "    </tr>\n",
       "    <tr>\n",
       "      <th>7796</th>\n",
       "      <td>d25f38519a89455499c9e49e67ae1511</td>\n",
       "      <td>20130730</td>\n",
       "      <td>F</td>\n",
       "      <td>58</td>\n",
       "      <td>55000</td>\n",
       "      <td>Adult</td>\n",
       "    </tr>\n",
       "    <tr>\n",
       "      <th>569</th>\n",
       "      <td>dbb4766b7dd94ca2b83a855312a3ebe9</td>\n",
       "      <td>20130730</td>\n",
       "      <td>M</td>\n",
       "      <td>36</td>\n",
       "      <td>74000</td>\n",
       "      <td>Adult</td>\n",
       "    </tr>\n",
       "    <tr>\n",
       "      <th>10933</th>\n",
       "      <td>7b42b5bbe237406aaf2748a09050f745</td>\n",
       "      <td>20130731</td>\n",
       "      <td>F</td>\n",
       "      <td>67</td>\n",
       "      <td>58000</td>\n",
       "      <td>Senior Citizen</td>\n",
       "    </tr>\n",
       "  </tbody>\n",
       "</table>\n",
       "</div>"
      ],
      "text/plain": [
       "                            customer_id  became_member_on gender  age  income  \\\n",
       "8948   77388a70eaf14433b4efc5d01fa947bf          20130729      M   64   69000   \n",
       "1200   5ffdab087e674149a89324a732b4f993          20130730      M   52   65000   \n",
       "7796   d25f38519a89455499c9e49e67ae1511          20130730      F   58   55000   \n",
       "569    dbb4766b7dd94ca2b83a855312a3ebe9          20130730      M   36   74000   \n",
       "10933  7b42b5bbe237406aaf2748a09050f745          20130731      F   67   58000   \n",
       "\n",
       "          age_bracket  \n",
       "8948   Senior Citizen  \n",
       "1200            Adult  \n",
       "7796            Adult  \n",
       "569             Adult  \n",
       "10933  Senior Citizen  "
      ]
     },
     "execution_count": 29,
     "metadata": {},
     "output_type": "execute_result"
    }
   ],
   "source": [
    "df = df.sort_values(by=[\"became_member_on\"])\n",
    "df.head()"
   ]
  },
  {
   "cell_type": "code",
   "execution_count": 30,
   "id": "61e23e8a-5d9b-4d11-84b9-38f1bd22ad86",
   "metadata": {},
   "outputs": [
    {
     "data": {
      "text/html": [
       "<div>\n",
       "<style scoped>\n",
       "    .dataframe tbody tr th:only-of-type {\n",
       "        vertical-align: middle;\n",
       "    }\n",
       "\n",
       "    .dataframe tbody tr th {\n",
       "        vertical-align: top;\n",
       "    }\n",
       "\n",
       "    .dataframe thead th {\n",
       "        text-align: right;\n",
       "    }\n",
       "</style>\n",
       "<table border=\"1\" class=\"dataframe\">\n",
       "  <thead>\n",
       "    <tr style=\"text-align: right;\">\n",
       "      <th></th>\n",
       "      <th>customer_id</th>\n",
       "      <th>became_member_on</th>\n",
       "      <th>gender</th>\n",
       "      <th>age</th>\n",
       "      <th>income</th>\n",
       "      <th>age_bracket</th>\n",
       "    </tr>\n",
       "  </thead>\n",
       "  <tbody>\n",
       "    <tr>\n",
       "      <th>6524</th>\n",
       "      <td>c3ea4f8ef00d4ec99de9df2de9b4e794</td>\n",
       "      <td>20180726</td>\n",
       "      <td>M</td>\n",
       "      <td>36</td>\n",
       "      <td>33000</td>\n",
       "      <td>Adult</td>\n",
       "    </tr>\n",
       "    <tr>\n",
       "      <th>11008</th>\n",
       "      <td>1bb6878ed4ed4e5e804829102ad73113</td>\n",
       "      <td>20180726</td>\n",
       "      <td>M</td>\n",
       "      <td>62</td>\n",
       "      <td>34000</td>\n",
       "      <td>Senior Citizen</td>\n",
       "    </tr>\n",
       "    <tr>\n",
       "      <th>8152</th>\n",
       "      <td>fb75504a0e404549995a3e8427a2a252</td>\n",
       "      <td>20180726</td>\n",
       "      <td>F</td>\n",
       "      <td>48</td>\n",
       "      <td>64000</td>\n",
       "      <td>Adult</td>\n",
       "    </tr>\n",
       "    <tr>\n",
       "      <th>13249</th>\n",
       "      <td>42f00b6b150e45149c50db9bd642bca6</td>\n",
       "      <td>20180726</td>\n",
       "      <td>F</td>\n",
       "      <td>45</td>\n",
       "      <td>70000</td>\n",
       "      <td>Adult</td>\n",
       "    </tr>\n",
       "    <tr>\n",
       "      <th>4357</th>\n",
       "      <td>6597e5ab63754726b83ba2032f008d26</td>\n",
       "      <td>20180726</td>\n",
       "      <td>M</td>\n",
       "      <td>76</td>\n",
       "      <td>92000</td>\n",
       "      <td>Senior Citizen</td>\n",
       "    </tr>\n",
       "  </tbody>\n",
       "</table>\n",
       "</div>"
      ],
      "text/plain": [
       "                            customer_id  became_member_on gender  age  income  \\\n",
       "6524   c3ea4f8ef00d4ec99de9df2de9b4e794          20180726      M   36   33000   \n",
       "11008  1bb6878ed4ed4e5e804829102ad73113          20180726      M   62   34000   \n",
       "8152   fb75504a0e404549995a3e8427a2a252          20180726      F   48   64000   \n",
       "13249  42f00b6b150e45149c50db9bd642bca6          20180726      F   45   70000   \n",
       "4357   6597e5ab63754726b83ba2032f008d26          20180726      M   76   92000   \n",
       "\n",
       "          age_bracket  \n",
       "6524            Adult  \n",
       "11008  Senior Citizen  \n",
       "8152            Adult  \n",
       "13249           Adult  \n",
       "4357   Senior Citizen  "
      ]
     },
     "execution_count": 30,
     "metadata": {},
     "output_type": "execute_result"
    }
   ],
   "source": [
    "df.tail()"
   ]
  },
  {
   "cell_type": "code",
   "execution_count": 32,
   "id": "d2be13c7-886a-491b-be74-c056d90338d7",
   "metadata": {},
   "outputs": [],
   "source": [
    "def income_bracketing(val):\n",
    "    if val <= 30000:\n",
    "        return \"Low\"\n",
    "    elif val > 30000 and val <= 80000:\n",
    "        return \"Medium\"\n",
    "    else:\n",
    "        return \"High\""
   ]
  },
  {
   "cell_type": "code",
   "execution_count": 33,
   "id": "531d46f5-847e-4dad-93ea-cbfee48d5e7f",
   "metadata": {},
   "outputs": [
    {
     "data": {
      "text/html": [
       "<div>\n",
       "<style scoped>\n",
       "    .dataframe tbody tr th:only-of-type {\n",
       "        vertical-align: middle;\n",
       "    }\n",
       "\n",
       "    .dataframe tbody tr th {\n",
       "        vertical-align: top;\n",
       "    }\n",
       "\n",
       "    .dataframe thead th {\n",
       "        text-align: right;\n",
       "    }\n",
       "</style>\n",
       "<table border=\"1\" class=\"dataframe\">\n",
       "  <thead>\n",
       "    <tr style=\"text-align: right;\">\n",
       "      <th></th>\n",
       "      <th>customer_id</th>\n",
       "      <th>became_member_on</th>\n",
       "      <th>gender</th>\n",
       "      <th>age</th>\n",
       "      <th>income</th>\n",
       "      <th>age_bracket</th>\n",
       "      <th>income_bracket</th>\n",
       "    </tr>\n",
       "  </thead>\n",
       "  <tbody>\n",
       "    <tr>\n",
       "      <th>8948</th>\n",
       "      <td>77388a70eaf14433b4efc5d01fa947bf</td>\n",
       "      <td>20130729</td>\n",
       "      <td>M</td>\n",
       "      <td>64</td>\n",
       "      <td>69000</td>\n",
       "      <td>Senior Citizen</td>\n",
       "      <td>Medium</td>\n",
       "    </tr>\n",
       "    <tr>\n",
       "      <th>1200</th>\n",
       "      <td>5ffdab087e674149a89324a732b4f993</td>\n",
       "      <td>20130730</td>\n",
       "      <td>M</td>\n",
       "      <td>52</td>\n",
       "      <td>65000</td>\n",
       "      <td>Adult</td>\n",
       "      <td>Medium</td>\n",
       "    </tr>\n",
       "    <tr>\n",
       "      <th>7796</th>\n",
       "      <td>d25f38519a89455499c9e49e67ae1511</td>\n",
       "      <td>20130730</td>\n",
       "      <td>F</td>\n",
       "      <td>58</td>\n",
       "      <td>55000</td>\n",
       "      <td>Adult</td>\n",
       "      <td>Medium</td>\n",
       "    </tr>\n",
       "    <tr>\n",
       "      <th>569</th>\n",
       "      <td>dbb4766b7dd94ca2b83a855312a3ebe9</td>\n",
       "      <td>20130730</td>\n",
       "      <td>M</td>\n",
       "      <td>36</td>\n",
       "      <td>74000</td>\n",
       "      <td>Adult</td>\n",
       "      <td>Medium</td>\n",
       "    </tr>\n",
       "    <tr>\n",
       "      <th>10933</th>\n",
       "      <td>7b42b5bbe237406aaf2748a09050f745</td>\n",
       "      <td>20130731</td>\n",
       "      <td>F</td>\n",
       "      <td>67</td>\n",
       "      <td>58000</td>\n",
       "      <td>Senior Citizen</td>\n",
       "      <td>Medium</td>\n",
       "    </tr>\n",
       "    <tr>\n",
       "      <th>15974</th>\n",
       "      <td>1f6ad0a8def240b3ad633f83032dedd8</td>\n",
       "      <td>20130801</td>\n",
       "      <td>M</td>\n",
       "      <td>69</td>\n",
       "      <td>73000</td>\n",
       "      <td>Senior Citizen</td>\n",
       "      <td>Medium</td>\n",
       "    </tr>\n",
       "    <tr>\n",
       "      <th>1101</th>\n",
       "      <td>12437b2c02be4105aec2d09db79c3c21</td>\n",
       "      <td>20130802</td>\n",
       "      <td>M</td>\n",
       "      <td>60</td>\n",
       "      <td>93000</td>\n",
       "      <td>Adult</td>\n",
       "      <td>High</td>\n",
       "    </tr>\n",
       "    <tr>\n",
       "      <th>1089</th>\n",
       "      <td>9977ab34735945638ac018d617c90cc6</td>\n",
       "      <td>20130802</td>\n",
       "      <td>F</td>\n",
       "      <td>81</td>\n",
       "      <td>62000</td>\n",
       "      <td>Senior Citizen</td>\n",
       "      <td>Medium</td>\n",
       "    </tr>\n",
       "    <tr>\n",
       "      <th>2678</th>\n",
       "      <td>b86e0aed9f19441089327c24646f17b6</td>\n",
       "      <td>20130803</td>\n",
       "      <td>M</td>\n",
       "      <td>79</td>\n",
       "      <td>66000</td>\n",
       "      <td>Senior Citizen</td>\n",
       "      <td>Medium</td>\n",
       "    </tr>\n",
       "    <tr>\n",
       "      <th>2264</th>\n",
       "      <td>316f9251e7564cc095ba1654556b9315</td>\n",
       "      <td>20130804</td>\n",
       "      <td>M</td>\n",
       "      <td>20</td>\n",
       "      <td>39000</td>\n",
       "      <td>Young</td>\n",
       "      <td>Medium</td>\n",
       "    </tr>\n",
       "  </tbody>\n",
       "</table>\n",
       "</div>"
      ],
      "text/plain": [
       "                            customer_id  became_member_on gender  age  income  \\\n",
       "8948   77388a70eaf14433b4efc5d01fa947bf          20130729      M   64   69000   \n",
       "1200   5ffdab087e674149a89324a732b4f993          20130730      M   52   65000   \n",
       "7796   d25f38519a89455499c9e49e67ae1511          20130730      F   58   55000   \n",
       "569    dbb4766b7dd94ca2b83a855312a3ebe9          20130730      M   36   74000   \n",
       "10933  7b42b5bbe237406aaf2748a09050f745          20130731      F   67   58000   \n",
       "15974  1f6ad0a8def240b3ad633f83032dedd8          20130801      M   69   73000   \n",
       "1101   12437b2c02be4105aec2d09db79c3c21          20130802      M   60   93000   \n",
       "1089   9977ab34735945638ac018d617c90cc6          20130802      F   81   62000   \n",
       "2678   b86e0aed9f19441089327c24646f17b6          20130803      M   79   66000   \n",
       "2264   316f9251e7564cc095ba1654556b9315          20130804      M   20   39000   \n",
       "\n",
       "          age_bracket income_bracket  \n",
       "8948   Senior Citizen         Medium  \n",
       "1200            Adult         Medium  \n",
       "7796            Adult         Medium  \n",
       "569             Adult         Medium  \n",
       "10933  Senior Citizen         Medium  \n",
       "15974  Senior Citizen         Medium  \n",
       "1101            Adult           High  \n",
       "1089   Senior Citizen         Medium  \n",
       "2678   Senior Citizen         Medium  \n",
       "2264            Young         Medium  "
      ]
     },
     "execution_count": 33,
     "metadata": {},
     "output_type": "execute_result"
    }
   ],
   "source": [
    "df[\"income_bracket\"] = df[\"income\"].apply(income_bracketing)\n",
    "df.head(10)"
   ]
  },
  {
   "cell_type": "code",
   "execution_count": 34,
   "id": "aa6ee6a6-3e71-4979-8e0f-90852240c68f",
   "metadata": {},
   "outputs": [
    {
     "data": {
      "text/plain": [
       "<Axes: xlabel='income_bracket', ylabel='count'>"
      ]
     },
     "execution_count": 34,
     "metadata": {},
     "output_type": "execute_result"
    },
    {
     "data": {
      "image/png": "[encoded data removed]",
      "text/plain": [
       "<Figure size 700x400 with 1 Axes>"
      ]
     },
     "metadata": {},
     "output_type": "display_data"
    }
   ],
   "source": [
    "plt.figure(figsize=(7,4))\n",
    "sns.countplot(x='income_bracket',data=df,hue='gender')"
   ]
  },
  {
   "cell_type": "code",
   "execution_count": 35,
   "id": "7d0dc17c-9f52-4540-aa5a-6b2bf38d9bf6",
   "metadata": {},
   "outputs": [
    {
     "data": {
      "text/plain": [
       "<Axes: xlabel='income_bracket', ylabel='count'>"
      ]
     },
     "execution_count": 35,
     "metadata": {},
     "output_type": "execute_result"
    },
    {
     "data": {
      "image/png": "[encoded data removed]",
      "text/plain": [
       "<Figure size 700x400 with 1 Axes>"
      ]
     },
     "metadata": {},
     "output_type": "display_data"
    }
   ],
   "source": [
    "plt.figure(figsize=(7,4))\n",
    "sns.countplot(x='income_bracket',data=df,hue='age_bracket')"
   ]
  },
  {
   "cell_type": "code",
   "execution_count": null,
   "id": "d11c790e-936a-4991-9fbd-7e4f01e4d80f",
   "metadata": {},
   "outputs": [],
   "source": []
  }
 ],
 "metadata": {
  "kernelspec": {
   "display_name": "Python 3 (ipykernel)",
   "language": "python",
   "name": "python3"
  },
  "language_info": {
   "codemirror_mode": {
    "name": "ipython",
    "version": 3
   },
   "file_extension": ".py",
   "mimetype": "text/x-python",
   "name": "python",
   "nbconvert_exporter": "python",
   "pygments_lexer": "ipython3",
   "version": "3.12.3"
  }
 },
 "nbformat": 4,
 "nbformat_minor": 5
}
