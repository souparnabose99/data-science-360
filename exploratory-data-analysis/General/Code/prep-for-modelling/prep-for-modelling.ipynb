{
 "cells": [
  {
   "cell_type": "markdown",
   "id": "ec148d44-a4fd-4ea8-b8b8-80a4e288b8b7",
   "metadata": {},
   "source": [
    "### Create single table:"
   ]
  },
  {
   "cell_type": "code",
   "execution_count": 3,
   "id": "a05a5b69-6f6a-4692-b9e1-b1847634eef4",
   "metadata": {},
   "outputs": [],
   "source": [
    "import sqlite3\n",
    "import numpy as np\n",
    "import pandas as pd\n",
    "import seaborn as sns\n",
    "import matplotlib.pyplot as plt"
   ]
  },
  {
   "cell_type": "code",
   "execution_count": 5,
   "id": "645a9d21-d15e-446c-8133-81a66ded0fd0",
   "metadata": {},
   "outputs": [
    {
     "data": {
      "text/html": [
       "<div>\n",
       "<style scoped>\n",
       "    .dataframe tbody tr th:only-of-type {\n",
       "        vertical-align: middle;\n",
       "    }\n",
       "\n",
       "    .dataframe tbody tr th {\n",
       "        vertical-align: top;\n",
       "    }\n",
       "\n",
       "    .dataframe thead th {\n",
       "        text-align: right;\n",
       "    }\n",
       "</style>\n",
       "<table border=\"1\" class=\"dataframe\">\n",
       "  <thead>\n",
       "    <tr style=\"text-align: right;\">\n",
       "      <th></th>\n",
       "      <th>customer</th>\n",
       "      <th>item_id</th>\n",
       "      <th>purchase_date</th>\n",
       "    </tr>\n",
       "  </thead>\n",
       "  <tbody>\n",
       "    <tr>\n",
       "      <th>0</th>\n",
       "      <td>Ava</td>\n",
       "      <td>1011</td>\n",
       "      <td>4/1/23</td>\n",
       "    </tr>\n",
       "    <tr>\n",
       "      <th>1</th>\n",
       "      <td>Ava</td>\n",
       "      <td>1014</td>\n",
       "      <td>4/1/23</td>\n",
       "    </tr>\n",
       "    <tr>\n",
       "      <th>2</th>\n",
       "      <td>Ava</td>\n",
       "      <td>1015</td>\n",
       "      <td>4/15/23</td>\n",
       "    </tr>\n",
       "    <tr>\n",
       "      <th>3</th>\n",
       "      <td>Ava</td>\n",
       "      <td>1018</td>\n",
       "      <td>5/1/23</td>\n",
       "    </tr>\n",
       "    <tr>\n",
       "      <th>4</th>\n",
       "      <td>Ben</td>\n",
       "      <td>2345</td>\n",
       "      <td>4/15/23</td>\n",
       "    </tr>\n",
       "  </tbody>\n",
       "</table>\n",
       "</div>"
      ],
      "text/plain": [
       "  customer  item_id purchase_date\n",
       "0      Ava     1011        4/1/23\n",
       "1      Ava     1014        4/1/23\n",
       "2      Ava     1015       4/15/23\n",
       "3      Ava     1018        5/1/23\n",
       "4      Ben     2345       4/15/23"
      ]
     },
     "execution_count": 5,
     "metadata": {},
     "output_type": "execute_result"
    }
   ],
   "source": [
    "conn = sqlite3.connect(r\"D:\\Coding\\Data-Prep-EDA\\Code\\Data\\online_shop.db\")\n",
    "transactions = pd.read_sql(\"SELECT * FROM TRANSACTIONS\", conn)\n",
    "transactions.head()"
   ]
  },
  {
   "cell_type": "code",
   "execution_count": 6,
   "id": "33d918ee-cb48-4548-9a34-a47e09c80492",
   "metadata": {},
   "outputs": [
    {
     "data": {
      "text/html": [
       "<div>\n",
       "<style scoped>\n",
       "    .dataframe tbody tr th:only-of-type {\n",
       "        vertical-align: middle;\n",
       "    }\n",
       "\n",
       "    .dataframe tbody tr th {\n",
       "        vertical-align: top;\n",
       "    }\n",
       "\n",
       "    .dataframe thead th {\n",
       "        text-align: right;\n",
       "    }\n",
       "</style>\n",
       "<table border=\"1\" class=\"dataframe\">\n",
       "  <thead>\n",
       "    <tr style=\"text-align: right;\">\n",
       "      <th></th>\n",
       "      <th>item_id</th>\n",
       "      <th>item_description</th>\n",
       "      <th>price</th>\n",
       "      <th>category</th>\n",
       "      <th>rating</th>\n",
       "    </tr>\n",
       "  </thead>\n",
       "  <tbody>\n",
       "    <tr>\n",
       "      <th>0</th>\n",
       "      <td>1011</td>\n",
       "      <td>Paint</td>\n",
       "      <td>$15.99</td>\n",
       "      <td>Arts &amp; Crafts</td>\n",
       "      <td>3.5</td>\n",
       "    </tr>\n",
       "    <tr>\n",
       "      <th>1</th>\n",
       "      <td>1012</td>\n",
       "      <td>Crayons</td>\n",
       "      <td>$2.87</td>\n",
       "      <td>Arts &amp; Crafts</td>\n",
       "      <td>4.7</td>\n",
       "    </tr>\n",
       "    <tr>\n",
       "      <th>2</th>\n",
       "      <td>1013</td>\n",
       "      <td>Markers</td>\n",
       "      <td>$2.50</td>\n",
       "      <td>Arts &amp; Crafts</td>\n",
       "      <td>4.8</td>\n",
       "    </tr>\n",
       "    <tr>\n",
       "      <th>3</th>\n",
       "      <td>1014</td>\n",
       "      <td>Brush</td>\n",
       "      <td>$1.99</td>\n",
       "      <td>Arts &amp; Crafts</td>\n",
       "      <td>4.2</td>\n",
       "    </tr>\n",
       "    <tr>\n",
       "      <th>4</th>\n",
       "      <td>1015</td>\n",
       "      <td>Paper</td>\n",
       "      <td>$22.49</td>\n",
       "      <td>Arts &amp; Crafts</td>\n",
       "      <td>4.5</td>\n",
       "    </tr>\n",
       "  </tbody>\n",
       "</table>\n",
       "</div>"
      ],
      "text/plain": [
       "   item_id item_description    price       category rating\n",
       "0     1011            Paint  $15.99   Arts & Crafts    3.5\n",
       "1     1012          Crayons   $2.87   Arts & Crafts    4.7\n",
       "2     1013          Markers   $2.50   Arts & Crafts    4.8\n",
       "3     1014            Brush   $1.99   Arts & Crafts    4.2\n",
       "4     1015            Paper  $22.49   Arts & Crafts    4.5"
      ]
     },
     "execution_count": 6,
     "metadata": {},
     "output_type": "execute_result"
    }
   ],
   "source": [
    "items = pd.read_sql(\"SELECT * FROM ITEMS\", conn)\n",
    "items.head()"
   ]
  },
  {
   "cell_type": "code",
   "execution_count": 7,
   "id": "31fcd968-3f28-4024-8559-e0580dc86883",
   "metadata": {},
   "outputs": [
    {
     "data": {
      "text/html": [
       "<div>\n",
       "<style scoped>\n",
       "    .dataframe tbody tr th:only-of-type {\n",
       "        vertical-align: middle;\n",
       "    }\n",
       "\n",
       "    .dataframe tbody tr th {\n",
       "        vertical-align: top;\n",
       "    }\n",
       "\n",
       "    .dataframe thead th {\n",
       "        text-align: right;\n",
       "    }\n",
       "</style>\n",
       "<table border=\"1\" class=\"dataframe\">\n",
       "  <thead>\n",
       "    <tr style=\"text-align: right;\">\n",
       "      <th></th>\n",
       "      <th>customer</th>\n",
       "      <th>item_id</th>\n",
       "      <th>purchase_date</th>\n",
       "      <th>item_description</th>\n",
       "      <th>price</th>\n",
       "      <th>category</th>\n",
       "      <th>rating</th>\n",
       "    </tr>\n",
       "  </thead>\n",
       "  <tbody>\n",
       "    <tr>\n",
       "      <th>0</th>\n",
       "      <td>Ava</td>\n",
       "      <td>1011</td>\n",
       "      <td>4/1/23</td>\n",
       "      <td>Paint</td>\n",
       "      <td>$15.99</td>\n",
       "      <td>Arts &amp; Crafts</td>\n",
       "      <td>3.5</td>\n",
       "    </tr>\n",
       "    <tr>\n",
       "      <th>1</th>\n",
       "      <td>Ava</td>\n",
       "      <td>1014</td>\n",
       "      <td>4/1/23</td>\n",
       "      <td>Brush</td>\n",
       "      <td>$1.99</td>\n",
       "      <td>Arts &amp; Crafts</td>\n",
       "      <td>4.2</td>\n",
       "    </tr>\n",
       "    <tr>\n",
       "      <th>2</th>\n",
       "      <td>Ava</td>\n",
       "      <td>1015</td>\n",
       "      <td>4/15/23</td>\n",
       "      <td>Paper</td>\n",
       "      <td>$22.49</td>\n",
       "      <td>Arts &amp; Crafts</td>\n",
       "      <td>4.5</td>\n",
       "    </tr>\n",
       "    <tr>\n",
       "      <th>3</th>\n",
       "      <td>Ava</td>\n",
       "      <td>1018</td>\n",
       "      <td>5/1/23</td>\n",
       "      <td>Scissors</td>\n",
       "      <td>$3.50</td>\n",
       "      <td>Arts &amp; Crafts</td>\n",
       "      <td>4.6</td>\n",
       "    </tr>\n",
       "    <tr>\n",
       "      <th>4</th>\n",
       "      <td>Ben</td>\n",
       "      <td>2345</td>\n",
       "      <td>4/15/23</td>\n",
       "      <td>Dog Food</td>\n",
       "      <td>$29.99</td>\n",
       "      <td>Pet Supplies</td>\n",
       "      <td>4.9</td>\n",
       "    </tr>\n",
       "  </tbody>\n",
       "</table>\n",
       "</div>"
      ],
      "text/plain": [
       "  customer  item_id purchase_date item_description    price       category  \\\n",
       "0      Ava     1011        4/1/23            Paint  $15.99   Arts & Crafts   \n",
       "1      Ava     1014        4/1/23            Brush   $1.99   Arts & Crafts   \n",
       "2      Ava     1015       4/15/23            Paper  $22.49   Arts & Crafts   \n",
       "3      Ava     1018        5/1/23         Scissors   $3.50   Arts & Crafts   \n",
       "4      Ben     2345       4/15/23         Dog Food  $29.99    Pet Supplies   \n",
       "\n",
       "  rating  \n",
       "0    3.5  \n",
       "1    4.2  \n",
       "2    4.5  \n",
       "3    4.6  \n",
       "4    4.9  "
      ]
     },
     "execution_count": 7,
     "metadata": {},
     "output_type": "execute_result"
    }
   ],
   "source": [
    "df = transactions.merge(items, how=\"left\", on=\"item_id\")\n",
    "df.head()"
   ]
  },
  {
   "cell_type": "code",
   "execution_count": 8,
   "id": "dd0cad4a-ae87-4258-aeb3-613002e2ab7a",
   "metadata": {},
   "outputs": [
    {
     "data": {
      "text/plain": [
       "(110, 7)"
      ]
     },
     "execution_count": 8,
     "metadata": {},
     "output_type": "execute_result"
    }
   ],
   "source": [
    "df.shape"
   ]
  },
  {
   "cell_type": "code",
   "execution_count": 9,
   "id": "a5d5cd8d-2bbd-4cf9-8d4c-25aa23b03cd0",
   "metadata": {},
   "outputs": [
    {
     "name": "stdout",
     "output_type": "stream",
     "text": [
      "<class 'pandas.core.frame.DataFrame'>\n",
      "RangeIndex: 110 entries, 0 to 109\n",
      "Data columns (total 7 columns):\n",
      " #   Column            Non-Null Count  Dtype \n",
      "---  ------            --------------  ----- \n",
      " 0   customer          110 non-null    object\n",
      " 1   item_id           110 non-null    int64 \n",
      " 2   purchase_date     110 non-null    object\n",
      " 3   item_description  110 non-null    object\n",
      " 4   price             110 non-null    object\n",
      " 5   category          110 non-null    object\n",
      " 6   rating            110 non-null    object\n",
      "dtypes: int64(1), object(6)\n",
      "memory usage: 6.1+ KB\n"
     ]
    }
   ],
   "source": [
    "df.info()"
   ]
  },
  {
   "cell_type": "markdown",
   "id": "535549c5-d9d7-4e0a-9a7f-9f9f115e4b01",
   "metadata": {},
   "source": [
    "### Prepare rows for modelling:"
   ]
  },
  {
   "cell_type": "code",
   "execution_count": null,
   "id": "4046f0ed-3845-4031-852d-0f6055c1107d",
   "metadata": {},
   "outputs": [],
   "source": []
  }
 ],
 "metadata": {
  "kernelspec": {
   "display_name": "Python 3 (ipykernel)",
   "language": "python",
   "name": "python3"
  },
  "language_info": {
   "codemirror_mode": {
    "name": "ipython",
    "version": 3
   },
   "file_extension": ".py",
   "mimetype": "text/x-python",
   "name": "python",
   "nbconvert_exporter": "python",
   "pygments_lexer": "ipython3",
   "version": "3.12.3"
  }
 },
 "nbformat": 4,
 "nbformat_minor": 5
}
