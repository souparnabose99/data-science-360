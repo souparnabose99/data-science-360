{
 "cells": [
  {
   "cell_type": "code",
   "execution_count": 1,
   "id": "7f528df6-e20a-4249-b087-e9e788173bb5",
   "metadata": {},
   "outputs": [],
   "source": [
    "import pandas as pd"
   ]
  },
  {
   "cell_type": "code",
   "execution_count": 2,
   "id": "2cb953f5-e7f5-49bf-b507-2b787d53e87b",
   "metadata": {},
   "outputs": [
    {
     "data": {
      "text/html": [
       "<div>\n",
       "<style scoped>\n",
       "    .dataframe tbody tr th:only-of-type {\n",
       "        vertical-align: middle;\n",
       "    }\n",
       "\n",
       "    .dataframe tbody tr th {\n",
       "        vertical-align: top;\n",
       "    }\n",
       "\n",
       "    .dataframe thead th {\n",
       "        text-align: right;\n",
       "    }\n",
       "</style>\n",
       "<table border=\"1\" class=\"dataframe\">\n",
       "  <thead>\n",
       "    <tr style=\"text-align: right;\">\n",
       "      <th></th>\n",
       "      <th>Name</th>\n",
       "      <th>Run Time</th>\n",
       "      <th>Warm Up Time</th>\n",
       "      <th>Location</th>\n",
       "      <th>Run Date</th>\n",
       "      <th>Race Date</th>\n",
       "      <th>Rain</th>\n",
       "      <th>Fee</th>\n",
       "    </tr>\n",
       "  </thead>\n",
       "  <tbody>\n",
       "    <tr>\n",
       "      <th>0</th>\n",
       "      <td>Alexis</td>\n",
       "      <td>9.2343</td>\n",
       "      <td>3.5</td>\n",
       "      <td>“school”</td>\n",
       "      <td>2023-04-15 12:00:00</td>\n",
       "      <td>2023-06-01</td>\n",
       "      <td>False</td>\n",
       "      <td>$0.00</td>\n",
       "    </tr>\n",
       "    <tr>\n",
       "      <th>1</th>\n",
       "      <td>Alexis</td>\n",
       "      <td>10.3842</td>\n",
       "      <td>3.5</td>\n",
       "      <td>School</td>\n",
       "      <td>2023-04-22 12:30:00</td>\n",
       "      <td>2023-06-01</td>\n",
       "      <td>True</td>\n",
       "      <td>$0.00</td>\n",
       "    </tr>\n",
       "    <tr>\n",
       "      <th>2</th>\n",
       "      <td>Alexis</td>\n",
       "      <td>8.1209</td>\n",
       "      <td>3 min</td>\n",
       "      <td>“the gym”</td>\n",
       "      <td>2023-05-10 15:00:00</td>\n",
       "      <td>2023-06-01</td>\n",
       "      <td>False</td>\n",
       "      <td>$2.50</td>\n",
       "    </tr>\n",
       "    <tr>\n",
       "      <th>3</th>\n",
       "      <td>David</td>\n",
       "      <td>7.2123</td>\n",
       "      <td>2.2</td>\n",
       "      <td>“school”</td>\n",
       "      <td>2023-05-01 15:15:00</td>\n",
       "      <td>2023-06-15</td>\n",
       "      <td>False</td>\n",
       "      <td>$0.00</td>\n",
       "    </tr>\n",
       "    <tr>\n",
       "      <th>4</th>\n",
       "      <td>David</td>\n",
       "      <td>6.8342</td>\n",
       "      <td>2</td>\n",
       "      <td>“gym”</td>\n",
       "      <td>2023-05-10 16:30:00</td>\n",
       "      <td>2023-06-15</td>\n",
       "      <td>False</td>\n",
       "      <td>$2.50</td>\n",
       "    </tr>\n",
       "  </tbody>\n",
       "</table>\n",
       "</div>"
      ],
      "text/plain": [
       "     Name  Run Time Warm Up Time   Location            Run Date  Race Date  \\\n",
       "0  Alexis    9.2343          3.5   “school” 2023-04-15 12:00:00 2023-06-01   \n",
       "1  Alexis   10.3842          3.5     School 2023-04-22 12:30:00 2023-06-01   \n",
       "2  Alexis    8.1209        3 min  “the gym” 2023-05-10 15:00:00 2023-06-01   \n",
       "3   David    7.2123          2.2   “school” 2023-05-01 15:15:00 2023-06-15   \n",
       "4   David    6.8342            2      “gym” 2023-05-10 16:30:00 2023-06-15   \n",
       "\n",
       "    Rain    Fee  \n",
       "0  False  $0.00  \n",
       "1   True  $0.00  \n",
       "2  False  $2.50  \n",
       "3  False  $0.00  \n",
       "4  False  $2.50  "
      ]
     },
     "execution_count": 2,
     "metadata": {},
     "output_type": "execute_result"
    }
   ],
   "source": [
    "run_times_df = pd.read_excel(r\"D:\\Coding\\Data-Prep-EDA\\Code\\Data\\Run Times.xlsx\")\n",
    "run_times_df.head()"
   ]
  },
  {
   "cell_type": "code",
   "execution_count": 3,
   "id": "cf8cd609-ed99-404a-8cd5-08d266eb5752",
   "metadata": {},
   "outputs": [
    {
     "data": {
      "text/plain": [
       "Name                    object\n",
       "Run Time               float64\n",
       "Warm Up Time            object\n",
       "Location                object\n",
       "Run Date        datetime64[ns]\n",
       "Race Date       datetime64[ns]\n",
       "Rain                      bool\n",
       "Fee                     object\n",
       "dtype: object"
      ]
     },
     "execution_count": 3,
     "metadata": {},
     "output_type": "execute_result"
    }
   ],
   "source": [
    "run_times_df.dtypes"
   ]
  },
  {
   "cell_type": "code",
   "execution_count": 4,
   "id": "5464ca98-d471-4962-9be1-61eb0d0ad5a4",
   "metadata": {},
   "outputs": [
    {
     "data": {
      "text/plain": [
       "Name                    object\n",
       "Run Time               float64\n",
       "Warm Up Time            object\n",
       "Location                object\n",
       "Run Date        datetime64[ns]\n",
       "Race Date       datetime64[ns]\n",
       "Rain                      bool\n",
       "Fee                    float64\n",
       "dtype: object"
      ]
     },
     "execution_count": 4,
     "metadata": {},
     "output_type": "execute_result"
    }
   ],
   "source": [
    "run_times_df.Fee = pd.to_numeric(run_times_df.Fee.str.replace(\"$\", \"\"))\n",
    "run_times_df.dtypes"
   ]
  },
  {
   "cell_type": "code",
   "execution_count": 5,
   "id": "73198430-602a-40a3-ab89-3f6f088ffea8",
   "metadata": {},
   "outputs": [
    {
     "data": {
      "text/html": [
       "<div>\n",
       "<style scoped>\n",
       "    .dataframe tbody tr th:only-of-type {\n",
       "        vertical-align: middle;\n",
       "    }\n",
       "\n",
       "    .dataframe tbody tr th {\n",
       "        vertical-align: top;\n",
       "    }\n",
       "\n",
       "    .dataframe thead th {\n",
       "        text-align: right;\n",
       "    }\n",
       "</style>\n",
       "<table border=\"1\" class=\"dataframe\">\n",
       "  <thead>\n",
       "    <tr style=\"text-align: right;\">\n",
       "      <th></th>\n",
       "      <th>Name</th>\n",
       "      <th>Run Time</th>\n",
       "      <th>Warm Up Time</th>\n",
       "      <th>Location</th>\n",
       "      <th>Run Date</th>\n",
       "      <th>Race Date</th>\n",
       "      <th>Rain</th>\n",
       "      <th>Fee</th>\n",
       "    </tr>\n",
       "  </thead>\n",
       "  <tbody>\n",
       "    <tr>\n",
       "      <th>0</th>\n",
       "      <td>Alexis</td>\n",
       "      <td>9.2343</td>\n",
       "      <td>3.5</td>\n",
       "      <td>“school”</td>\n",
       "      <td>2023-04-15 12:00:00</td>\n",
       "      <td>2023-06-01</td>\n",
       "      <td>False</td>\n",
       "      <td>0.0</td>\n",
       "    </tr>\n",
       "    <tr>\n",
       "      <th>1</th>\n",
       "      <td>Alexis</td>\n",
       "      <td>10.3842</td>\n",
       "      <td>3.5</td>\n",
       "      <td>School</td>\n",
       "      <td>2023-04-22 12:30:00</td>\n",
       "      <td>2023-06-01</td>\n",
       "      <td>True</td>\n",
       "      <td>0.0</td>\n",
       "    </tr>\n",
       "    <tr>\n",
       "      <th>2</th>\n",
       "      <td>Alexis</td>\n",
       "      <td>8.1209</td>\n",
       "      <td>3.0</td>\n",
       "      <td>“the gym”</td>\n",
       "      <td>2023-05-10 15:00:00</td>\n",
       "      <td>2023-06-01</td>\n",
       "      <td>False</td>\n",
       "      <td>2.5</td>\n",
       "    </tr>\n",
       "    <tr>\n",
       "      <th>3</th>\n",
       "      <td>David</td>\n",
       "      <td>7.2123</td>\n",
       "      <td>2.2</td>\n",
       "      <td>“school”</td>\n",
       "      <td>2023-05-01 15:15:00</td>\n",
       "      <td>2023-06-15</td>\n",
       "      <td>False</td>\n",
       "      <td>0.0</td>\n",
       "    </tr>\n",
       "    <tr>\n",
       "      <th>4</th>\n",
       "      <td>David</td>\n",
       "      <td>6.8342</td>\n",
       "      <td>2.0</td>\n",
       "      <td>“gym”</td>\n",
       "      <td>2023-05-10 16:30:00</td>\n",
       "      <td>2023-06-15</td>\n",
       "      <td>False</td>\n",
       "      <td>2.5</td>\n",
       "    </tr>\n",
       "  </tbody>\n",
       "</table>\n",
       "</div>"
      ],
      "text/plain": [
       "     Name  Run Time  Warm Up Time   Location            Run Date  Race Date  \\\n",
       "0  Alexis    9.2343           3.5   “school” 2023-04-15 12:00:00 2023-06-01   \n",
       "1  Alexis   10.3842           3.5     School 2023-04-22 12:30:00 2023-06-01   \n",
       "2  Alexis    8.1209           3.0  “the gym” 2023-05-10 15:00:00 2023-06-01   \n",
       "3   David    7.2123           2.2   “school” 2023-05-01 15:15:00 2023-06-15   \n",
       "4   David    6.8342           2.0      “gym” 2023-05-10 16:30:00 2023-06-15   \n",
       "\n",
       "    Rain  Fee  \n",
       "0  False  0.0  \n",
       "1   True  0.0  \n",
       "2  False  2.5  \n",
       "3  False  0.0  \n",
       "4  False  2.5  "
      ]
     },
     "execution_count": 5,
     "metadata": {},
     "output_type": "execute_result"
    }
   ],
   "source": [
    "run_times_df[\"Warm Up Time\"] = pd.to_numeric(run_times_df[\"Warm Up Time\"].astype(\"str\").str.replace(\" min\", \"\"))\n",
    "run_times_df.head()"
   ]
  },
  {
   "cell_type": "code",
   "execution_count": 6,
   "id": "6eff5945-450f-4d43-974d-783b5e3cc641",
   "metadata": {},
   "outputs": [
    {
     "data": {
      "text/plain": [
       "Name                    object\n",
       "Run Time               float64\n",
       "Warm Up Time           float64\n",
       "Location                object\n",
       "Run Date        datetime64[ns]\n",
       "Race Date       datetime64[ns]\n",
       "Rain                      bool\n",
       "Fee                    float64\n",
       "dtype: object"
      ]
     },
     "execution_count": 6,
     "metadata": {},
     "output_type": "execute_result"
    }
   ],
   "source": [
    "run_times_df.dtypes"
   ]
  },
  {
   "cell_type": "code",
   "execution_count": 8,
   "id": "9c0ae3ee-1401-4695-a016-06324fb05399",
   "metadata": {},
   "outputs": [
    {
     "data": {
      "text/html": [
       "<div>\n",
       "<style scoped>\n",
       "    .dataframe tbody tr th:only-of-type {\n",
       "        vertical-align: middle;\n",
       "    }\n",
       "\n",
       "    .dataframe tbody tr th {\n",
       "        vertical-align: top;\n",
       "    }\n",
       "\n",
       "    .dataframe thead th {\n",
       "        text-align: right;\n",
       "    }\n",
       "</style>\n",
       "<table border=\"1\" class=\"dataframe\">\n",
       "  <thead>\n",
       "    <tr style=\"text-align: right;\">\n",
       "      <th></th>\n",
       "      <th>Name</th>\n",
       "      <th>Run Time</th>\n",
       "      <th>Warm Up Time</th>\n",
       "      <th>Location</th>\n",
       "      <th>Run Date</th>\n",
       "      <th>Race Date</th>\n",
       "      <th>Rain</th>\n",
       "      <th>Fee</th>\n",
       "    </tr>\n",
       "  </thead>\n",
       "  <tbody>\n",
       "    <tr>\n",
       "      <th>0</th>\n",
       "      <td>Alexis</td>\n",
       "      <td>9.2343</td>\n",
       "      <td>3.5</td>\n",
       "      <td>“school”</td>\n",
       "      <td>2023-04-15 12:00:00</td>\n",
       "      <td>2023-06-01</td>\n",
       "      <td>0</td>\n",
       "      <td>0.0</td>\n",
       "    </tr>\n",
       "    <tr>\n",
       "      <th>1</th>\n",
       "      <td>Alexis</td>\n",
       "      <td>10.3842</td>\n",
       "      <td>3.5</td>\n",
       "      <td>School</td>\n",
       "      <td>2023-04-22 12:30:00</td>\n",
       "      <td>2023-06-01</td>\n",
       "      <td>1</td>\n",
       "      <td>0.0</td>\n",
       "    </tr>\n",
       "    <tr>\n",
       "      <th>2</th>\n",
       "      <td>Alexis</td>\n",
       "      <td>8.1209</td>\n",
       "      <td>3.0</td>\n",
       "      <td>“the gym”</td>\n",
       "      <td>2023-05-10 15:00:00</td>\n",
       "      <td>2023-06-01</td>\n",
       "      <td>0</td>\n",
       "      <td>2.5</td>\n",
       "    </tr>\n",
       "    <tr>\n",
       "      <th>3</th>\n",
       "      <td>David</td>\n",
       "      <td>7.2123</td>\n",
       "      <td>2.2</td>\n",
       "      <td>“school”</td>\n",
       "      <td>2023-05-01 15:15:00</td>\n",
       "      <td>2023-06-15</td>\n",
       "      <td>0</td>\n",
       "      <td>0.0</td>\n",
       "    </tr>\n",
       "    <tr>\n",
       "      <th>4</th>\n",
       "      <td>David</td>\n",
       "      <td>6.8342</td>\n",
       "      <td>2.0</td>\n",
       "      <td>“gym”</td>\n",
       "      <td>2023-05-10 16:30:00</td>\n",
       "      <td>2023-06-15</td>\n",
       "      <td>0</td>\n",
       "      <td>2.5</td>\n",
       "    </tr>\n",
       "  </tbody>\n",
       "</table>\n",
       "</div>"
      ],
      "text/plain": [
       "     Name  Run Time  Warm Up Time   Location            Run Date  Race Date  \\\n",
       "0  Alexis    9.2343           3.5   “school” 2023-04-15 12:00:00 2023-06-01   \n",
       "1  Alexis   10.3842           3.5     School 2023-04-22 12:30:00 2023-06-01   \n",
       "2  Alexis    8.1209           3.0  “the gym” 2023-05-10 15:00:00 2023-06-01   \n",
       "3   David    7.2123           2.2   “school” 2023-05-01 15:15:00 2023-06-15   \n",
       "4   David    6.8342           2.0      “gym” 2023-05-10 16:30:00 2023-06-15   \n",
       "\n",
       "   Rain  Fee  \n",
       "0     0  0.0  \n",
       "1     1  0.0  \n",
       "2     0  2.5  \n",
       "3     0  0.0  \n",
       "4     0  2.5  "
      ]
     },
     "execution_count": 8,
     "metadata": {},
     "output_type": "execute_result"
    }
   ],
   "source": [
    "run_times_df.Rain = run_times_df.Rain.astype(\"int\")\n",
    "run_times_df.head()"
   ]
  },
  {
   "cell_type": "code",
   "execution_count": 9,
   "id": "f939a052-8686-42af-bac1-d134c8be0e54",
   "metadata": {},
   "outputs": [
    {
     "data": {
      "text/plain": [
       "Name                    object\n",
       "Run Time               float64\n",
       "Warm Up Time           float64\n",
       "Location                object\n",
       "Run Date        datetime64[ns]\n",
       "Race Date       datetime64[ns]\n",
       "Rain                     int32\n",
       "Fee                    float64\n",
       "dtype: object"
      ]
     },
     "execution_count": 9,
     "metadata": {},
     "output_type": "execute_result"
    }
   ],
   "source": [
    "run_times_df.dtypes"
   ]
  },
  {
   "cell_type": "code",
   "execution_count": null,
   "id": "bf1e411c-2eec-4f4a-82fb-36adb0418446",
   "metadata": {},
   "outputs": [],
   "source": []
  }
 ],
 "metadata": {
  "kernelspec": {
   "display_name": "Python 3 (ipykernel)",
   "language": "python",
   "name": "python3"
  },
  "language_info": {
   "codemirror_mode": {
    "name": "ipython",
    "version": 3
   },
   "file_extension": ".py",
   "mimetype": "text/x-python",
   "name": "python",
   "nbconvert_exporter": "python",
   "pygments_lexer": "ipython3",
   "version": "3.12.3"
  }
 },
 "nbformat": 4,
 "nbformat_minor": 5
}
